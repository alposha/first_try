{
  "nbformat": 4,
  "nbformat_minor": 0,
  "metadata": {
    "colab": {
      "provenance": []
    },
    "kernelspec": {
      "name": "python3",
      "display_name": "Python 3"
    },
    "language_info": {
      "name": "python"
    }
  },
  "cells": [
    {
      "cell_type": "markdown",
      "source": [
        "# **Предобработка данных**"
      ],
      "metadata": {
        "id": "43n-2FRFNvr4"
      }
    },
    {
      "cell_type": "code",
      "execution_count": 1391,
      "metadata": {
        "id": "Mo7myiVv0YWZ"
      },
      "outputs": [],
      "source": [
        "import numpy as np\n",
        "import pandas as pd\n",
        "import matplotlib.pyplot as plt\n",
        "import seaborn as sns"
      ]
    },
    {
      "cell_type": "code",
      "source": [
        "orders_data = pd.read_csv('train.csv')\n",
        "orders_data.head()"
      ],
      "metadata": {
        "colab": {
          "base_uri": "https://localhost:8080/",
          "height": 224
        },
        "id": "4NZ1rWSm2iVv",
        "outputId": "af05547d-e6ec-4879-d984-33d10c15a104"
      },
      "execution_count": 1392,
      "outputs": [
        {
          "output_type": "execute_result",
          "data": {
            "text/plain": [
              "    Deal_id   Deal_date First_deal_date  Secret_dwarf_info_1  \\\n",
              "0  22487461  2015-11-05      2015-08-29                  NaN   \n",
              "1  62494261  2016-08-26      2015-12-21                  3.5   \n",
              "2  34822849  2016-02-18      2015-11-11                  NaN   \n",
              "3  46893387  2016-04-30      2016-03-22                  NaN   \n",
              "4  67128275  2016-09-19      2016-07-21                  NaN   \n",
              "\n",
              "   Secret_dwarf_info_2  Secret_dwarf_info_3 First_default_date  \\\n",
              "0                  NaN                  NaN                NaN   \n",
              "1                 -2.0                  5.0         2016-07-30   \n",
              "2                  NaN                  NaN                NaN   \n",
              "3                  NaN                  NaN                NaN   \n",
              "4                  NaN                  NaN                NaN   \n",
              "\n",
              "   Successful_deals_count             Region  Tavern  Hashed_deal_detail_1  \\\n",
              "0                     0.0  Tavern_district_3       7                   2.5   \n",
              "1                     2.0  Tavern_district_4       7                   2.5   \n",
              "2                     0.0  Tavern_district_6       7                   2.5   \n",
              "3                     0.0  Tavern_district_2      13                   2.5   \n",
              "4                     0.0  Tavern_district_4      39                   2.5   \n",
              "\n",
              "   Hashed_deal_detail_2  Hashed_deal_detail_3  Hashed_deal_detail_4  \\\n",
              "0                    -3                     8                   2.5   \n",
              "1                    -3                    14                   3.5   \n",
              "2                    -3                     8                   2.5   \n",
              "3                    -2                     5                   2.5   \n",
              "4                    -3                     7                   2.5   \n",
              "\n",
              "   Hashed_deal_detail_5  Hashed_deal_detail_6   Age  Gender  Default  \n",
              "0                    -3                     5  36.0    Male        0  \n",
              "1                    -3                     5  29.0  Female        1  \n",
              "2                    -3                     5  56.0  Female        0  \n",
              "3                    -3                     5  27.0  Female        0  \n",
              "4                    -3                     5  37.0  Female        0  "
            ],
            "text/html": [
              "\n",
              "  <div id=\"df-79094f15-f7ca-400a-a428-37256aa8876e\" class=\"colab-df-container\">\n",
              "    <div>\n",
              "<style scoped>\n",
              "    .dataframe tbody tr th:only-of-type {\n",
              "        vertical-align: middle;\n",
              "    }\n",
              "\n",
              "    .dataframe tbody tr th {\n",
              "        vertical-align: top;\n",
              "    }\n",
              "\n",
              "    .dataframe thead th {\n",
              "        text-align: right;\n",
              "    }\n",
              "</style>\n",
              "<table border=\"1\" class=\"dataframe\">\n",
              "  <thead>\n",
              "    <tr style=\"text-align: right;\">\n",
              "      <th></th>\n",
              "      <th>Deal_id</th>\n",
              "      <th>Deal_date</th>\n",
              "      <th>First_deal_date</th>\n",
              "      <th>Secret_dwarf_info_1</th>\n",
              "      <th>Secret_dwarf_info_2</th>\n",
              "      <th>Secret_dwarf_info_3</th>\n",
              "      <th>First_default_date</th>\n",
              "      <th>Successful_deals_count</th>\n",
              "      <th>Region</th>\n",
              "      <th>Tavern</th>\n",
              "      <th>Hashed_deal_detail_1</th>\n",
              "      <th>Hashed_deal_detail_2</th>\n",
              "      <th>Hashed_deal_detail_3</th>\n",
              "      <th>Hashed_deal_detail_4</th>\n",
              "      <th>Hashed_deal_detail_5</th>\n",
              "      <th>Hashed_deal_detail_6</th>\n",
              "      <th>Age</th>\n",
              "      <th>Gender</th>\n",
              "      <th>Default</th>\n",
              "    </tr>\n",
              "  </thead>\n",
              "  <tbody>\n",
              "    <tr>\n",
              "      <th>0</th>\n",
              "      <td>22487461</td>\n",
              "      <td>2015-11-05</td>\n",
              "      <td>2015-08-29</td>\n",
              "      <td>NaN</td>\n",
              "      <td>NaN</td>\n",
              "      <td>NaN</td>\n",
              "      <td>NaN</td>\n",
              "      <td>0.0</td>\n",
              "      <td>Tavern_district_3</td>\n",
              "      <td>7</td>\n",
              "      <td>2.5</td>\n",
              "      <td>-3</td>\n",
              "      <td>8</td>\n",
              "      <td>2.5</td>\n",
              "      <td>-3</td>\n",
              "      <td>5</td>\n",
              "      <td>36.0</td>\n",
              "      <td>Male</td>\n",
              "      <td>0</td>\n",
              "    </tr>\n",
              "    <tr>\n",
              "      <th>1</th>\n",
              "      <td>62494261</td>\n",
              "      <td>2016-08-26</td>\n",
              "      <td>2015-12-21</td>\n",
              "      <td>3.5</td>\n",
              "      <td>-2.0</td>\n",
              "      <td>5.0</td>\n",
              "      <td>2016-07-30</td>\n",
              "      <td>2.0</td>\n",
              "      <td>Tavern_district_4</td>\n",
              "      <td>7</td>\n",
              "      <td>2.5</td>\n",
              "      <td>-3</td>\n",
              "      <td>14</td>\n",
              "      <td>3.5</td>\n",
              "      <td>-3</td>\n",
              "      <td>5</td>\n",
              "      <td>29.0</td>\n",
              "      <td>Female</td>\n",
              "      <td>1</td>\n",
              "    </tr>\n",
              "    <tr>\n",
              "      <th>2</th>\n",
              "      <td>34822849</td>\n",
              "      <td>2016-02-18</td>\n",
              "      <td>2015-11-11</td>\n",
              "      <td>NaN</td>\n",
              "      <td>NaN</td>\n",
              "      <td>NaN</td>\n",
              "      <td>NaN</td>\n",
              "      <td>0.0</td>\n",
              "      <td>Tavern_district_6</td>\n",
              "      <td>7</td>\n",
              "      <td>2.5</td>\n",
              "      <td>-3</td>\n",
              "      <td>8</td>\n",
              "      <td>2.5</td>\n",
              "      <td>-3</td>\n",
              "      <td>5</td>\n",
              "      <td>56.0</td>\n",
              "      <td>Female</td>\n",
              "      <td>0</td>\n",
              "    </tr>\n",
              "    <tr>\n",
              "      <th>3</th>\n",
              "      <td>46893387</td>\n",
              "      <td>2016-04-30</td>\n",
              "      <td>2016-03-22</td>\n",
              "      <td>NaN</td>\n",
              "      <td>NaN</td>\n",
              "      <td>NaN</td>\n",
              "      <td>NaN</td>\n",
              "      <td>0.0</td>\n",
              "      <td>Tavern_district_2</td>\n",
              "      <td>13</td>\n",
              "      <td>2.5</td>\n",
              "      <td>-2</td>\n",
              "      <td>5</td>\n",
              "      <td>2.5</td>\n",
              "      <td>-3</td>\n",
              "      <td>5</td>\n",
              "      <td>27.0</td>\n",
              "      <td>Female</td>\n",
              "      <td>0</td>\n",
              "    </tr>\n",
              "    <tr>\n",
              "      <th>4</th>\n",
              "      <td>67128275</td>\n",
              "      <td>2016-09-19</td>\n",
              "      <td>2016-07-21</td>\n",
              "      <td>NaN</td>\n",
              "      <td>NaN</td>\n",
              "      <td>NaN</td>\n",
              "      <td>NaN</td>\n",
              "      <td>0.0</td>\n",
              "      <td>Tavern_district_4</td>\n",
              "      <td>39</td>\n",
              "      <td>2.5</td>\n",
              "      <td>-3</td>\n",
              "      <td>7</td>\n",
              "      <td>2.5</td>\n",
              "      <td>-3</td>\n",
              "      <td>5</td>\n",
              "      <td>37.0</td>\n",
              "      <td>Female</td>\n",
              "      <td>0</td>\n",
              "    </tr>\n",
              "  </tbody>\n",
              "</table>\n",
              "</div>\n",
              "    <div class=\"colab-df-buttons\">\n",
              "\n",
              "  <div class=\"colab-df-container\">\n",
              "    <button class=\"colab-df-convert\" onclick=\"convertToInteractive('df-79094f15-f7ca-400a-a428-37256aa8876e')\"\n",
              "            title=\"Convert this dataframe to an interactive table.\"\n",
              "            style=\"display:none;\">\n",
              "\n",
              "  <svg xmlns=\"http://www.w3.org/2000/svg\" height=\"24px\" viewBox=\"0 -960 960 960\">\n",
              "    <path d=\"M120-120v-720h720v720H120Zm60-500h600v-160H180v160Zm220 220h160v-160H400v160Zm0 220h160v-160H400v160ZM180-400h160v-160H180v160Zm440 0h160v-160H620v160ZM180-180h160v-160H180v160Zm440 0h160v-160H620v160Z\"/>\n",
              "  </svg>\n",
              "    </button>\n",
              "\n",
              "  <style>\n",
              "    .colab-df-container {\n",
              "      display:flex;\n",
              "      gap: 12px;\n",
              "    }\n",
              "\n",
              "    .colab-df-convert {\n",
              "      background-color: #E8F0FE;\n",
              "      border: none;\n",
              "      border-radius: 50%;\n",
              "      cursor: pointer;\n",
              "      display: none;\n",
              "      fill: #1967D2;\n",
              "      height: 32px;\n",
              "      padding: 0 0 0 0;\n",
              "      width: 32px;\n",
              "    }\n",
              "\n",
              "    .colab-df-convert:hover {\n",
              "      background-color: #E2EBFA;\n",
              "      box-shadow: 0px 1px 2px rgba(60, 64, 67, 0.3), 0px 1px 3px 1px rgba(60, 64, 67, 0.15);\n",
              "      fill: #174EA6;\n",
              "    }\n",
              "\n",
              "    .colab-df-buttons div {\n",
              "      margin-bottom: 4px;\n",
              "    }\n",
              "\n",
              "    [theme=dark] .colab-df-convert {\n",
              "      background-color: #3B4455;\n",
              "      fill: #D2E3FC;\n",
              "    }\n",
              "\n",
              "    [theme=dark] .colab-df-convert:hover {\n",
              "      background-color: #434B5C;\n",
              "      box-shadow: 0px 1px 3px 1px rgba(0, 0, 0, 0.15);\n",
              "      filter: drop-shadow(0px 1px 2px rgba(0, 0, 0, 0.3));\n",
              "      fill: #FFFFFF;\n",
              "    }\n",
              "  </style>\n",
              "\n",
              "    <script>\n",
              "      const buttonEl =\n",
              "        document.querySelector('#df-79094f15-f7ca-400a-a428-37256aa8876e button.colab-df-convert');\n",
              "      buttonEl.style.display =\n",
              "        google.colab.kernel.accessAllowed ? 'block' : 'none';\n",
              "\n",
              "      async function convertToInteractive(key) {\n",
              "        const element = document.querySelector('#df-79094f15-f7ca-400a-a428-37256aa8876e');\n",
              "        const dataTable =\n",
              "          await google.colab.kernel.invokeFunction('convertToInteractive',\n",
              "                                                    [key], {});\n",
              "        if (!dataTable) return;\n",
              "\n",
              "        const docLinkHtml = 'Like what you see? Visit the ' +\n",
              "          '<a target=\"_blank\" href=https://colab.research.google.com/notebooks/data_table.ipynb>data table notebook</a>'\n",
              "          + ' to learn more about interactive tables.';\n",
              "        element.innerHTML = '';\n",
              "        dataTable['output_type'] = 'display_data';\n",
              "        await google.colab.output.renderOutput(dataTable, element);\n",
              "        const docLink = document.createElement('div');\n",
              "        docLink.innerHTML = docLinkHtml;\n",
              "        element.appendChild(docLink);\n",
              "      }\n",
              "    </script>\n",
              "  </div>\n",
              "\n",
              "\n",
              "<div id=\"df-85d1e11c-ac6f-4e40-8bc5-e83d4738a30c\">\n",
              "  <button class=\"colab-df-quickchart\" onclick=\"quickchart('df-85d1e11c-ac6f-4e40-8bc5-e83d4738a30c')\"\n",
              "            title=\"Suggest charts\"\n",
              "            style=\"display:none;\">\n",
              "\n",
              "<svg xmlns=\"http://www.w3.org/2000/svg\" height=\"24px\"viewBox=\"0 0 24 24\"\n",
              "     width=\"24px\">\n",
              "    <g>\n",
              "        <path d=\"M19 3H5c-1.1 0-2 .9-2 2v14c0 1.1.9 2 2 2h14c1.1 0 2-.9 2-2V5c0-1.1-.9-2-2-2zM9 17H7v-7h2v7zm4 0h-2V7h2v10zm4 0h-2v-4h2v4z\"/>\n",
              "    </g>\n",
              "</svg>\n",
              "  </button>\n",
              "\n",
              "<style>\n",
              "  .colab-df-quickchart {\n",
              "      --bg-color: #E8F0FE;\n",
              "      --fill-color: #1967D2;\n",
              "      --hover-bg-color: #E2EBFA;\n",
              "      --hover-fill-color: #174EA6;\n",
              "      --disabled-fill-color: #AAA;\n",
              "      --disabled-bg-color: #DDD;\n",
              "  }\n",
              "\n",
              "  [theme=dark] .colab-df-quickchart {\n",
              "      --bg-color: #3B4455;\n",
              "      --fill-color: #D2E3FC;\n",
              "      --hover-bg-color: #434B5C;\n",
              "      --hover-fill-color: #FFFFFF;\n",
              "      --disabled-bg-color: #3B4455;\n",
              "      --disabled-fill-color: #666;\n",
              "  }\n",
              "\n",
              "  .colab-df-quickchart {\n",
              "    background-color: var(--bg-color);\n",
              "    border: none;\n",
              "    border-radius: 50%;\n",
              "    cursor: pointer;\n",
              "    display: none;\n",
              "    fill: var(--fill-color);\n",
              "    height: 32px;\n",
              "    padding: 0;\n",
              "    width: 32px;\n",
              "  }\n",
              "\n",
              "  .colab-df-quickchart:hover {\n",
              "    background-color: var(--hover-bg-color);\n",
              "    box-shadow: 0 1px 2px rgba(60, 64, 67, 0.3), 0 1px 3px 1px rgba(60, 64, 67, 0.15);\n",
              "    fill: var(--button-hover-fill-color);\n",
              "  }\n",
              "\n",
              "  .colab-df-quickchart-complete:disabled,\n",
              "  .colab-df-quickchart-complete:disabled:hover {\n",
              "    background-color: var(--disabled-bg-color);\n",
              "    fill: var(--disabled-fill-color);\n",
              "    box-shadow: none;\n",
              "  }\n",
              "\n",
              "  .colab-df-spinner {\n",
              "    border: 2px solid var(--fill-color);\n",
              "    border-color: transparent;\n",
              "    border-bottom-color: var(--fill-color);\n",
              "    animation:\n",
              "      spin 1s steps(1) infinite;\n",
              "  }\n",
              "\n",
              "  @keyframes spin {\n",
              "    0% {\n",
              "      border-color: transparent;\n",
              "      border-bottom-color: var(--fill-color);\n",
              "      border-left-color: var(--fill-color);\n",
              "    }\n",
              "    20% {\n",
              "      border-color: transparent;\n",
              "      border-left-color: var(--fill-color);\n",
              "      border-top-color: var(--fill-color);\n",
              "    }\n",
              "    30% {\n",
              "      border-color: transparent;\n",
              "      border-left-color: var(--fill-color);\n",
              "      border-top-color: var(--fill-color);\n",
              "      border-right-color: var(--fill-color);\n",
              "    }\n",
              "    40% {\n",
              "      border-color: transparent;\n",
              "      border-right-color: var(--fill-color);\n",
              "      border-top-color: var(--fill-color);\n",
              "    }\n",
              "    60% {\n",
              "      border-color: transparent;\n",
              "      border-right-color: var(--fill-color);\n",
              "    }\n",
              "    80% {\n",
              "      border-color: transparent;\n",
              "      border-right-color: var(--fill-color);\n",
              "      border-bottom-color: var(--fill-color);\n",
              "    }\n",
              "    90% {\n",
              "      border-color: transparent;\n",
              "      border-bottom-color: var(--fill-color);\n",
              "    }\n",
              "  }\n",
              "</style>\n",
              "\n",
              "  <script>\n",
              "    async function quickchart(key) {\n",
              "      const quickchartButtonEl =\n",
              "        document.querySelector('#' + key + ' button');\n",
              "      quickchartButtonEl.disabled = true;  // To prevent multiple clicks.\n",
              "      quickchartButtonEl.classList.add('colab-df-spinner');\n",
              "      try {\n",
              "        const charts = await google.colab.kernel.invokeFunction(\n",
              "            'suggestCharts', [key], {});\n",
              "      } catch (error) {\n",
              "        console.error('Error during call to suggestCharts:', error);\n",
              "      }\n",
              "      quickchartButtonEl.classList.remove('colab-df-spinner');\n",
              "      quickchartButtonEl.classList.add('colab-df-quickchart-complete');\n",
              "    }\n",
              "    (() => {\n",
              "      let quickchartButtonEl =\n",
              "        document.querySelector('#df-85d1e11c-ac6f-4e40-8bc5-e83d4738a30c button');\n",
              "      quickchartButtonEl.style.display =\n",
              "        google.colab.kernel.accessAllowed ? 'block' : 'none';\n",
              "    })();\n",
              "  </script>\n",
              "</div>\n",
              "    </div>\n",
              "  </div>\n"
            ],
            "application/vnd.google.colaboratory.intrinsic+json": {
              "type": "dataframe",
              "variable_name": "orders_data",
              "summary": "{\n  \"name\": \"orders_data\",\n  \"rows\": 3168,\n  \"fields\": [\n    {\n      \"column\": \"Deal_id\",\n      \"properties\": {\n        \"dtype\": \"number\",\n        \"std\": 53709525,\n        \"min\": 585679,\n        \"max\": 692770100,\n        \"num_unique_values\": 3168,\n        \"samples\": [\n          45309255,\n          38727270,\n          31202980\n        ],\n        \"semantic_type\": \"\",\n        \"description\": \"\"\n      }\n    },\n    {\n      \"column\": \"Deal_date\",\n      \"properties\": {\n        \"dtype\": \"object\",\n        \"num_unique_values\": 486,\n        \"samples\": [\n          \"2016-01-08\",\n          \"2016-01-19\",\n          \"2015-06-19\"\n        ],\n        \"semantic_type\": \"\",\n        \"description\": \"\"\n      }\n    },\n    {\n      \"column\": \"First_deal_date\",\n      \"properties\": {\n        \"dtype\": \"object\",\n        \"num_unique_values\": 545,\n        \"samples\": [\n          \"2015-08-07\",\n          \"2016-07-14\",\n          \"2015-12-10\"\n        ],\n        \"semantic_type\": \"\",\n        \"description\": \"\"\n      }\n    },\n    {\n      \"column\": \"Secret_dwarf_info_1\",\n      \"properties\": {\n        \"dtype\": \"number\",\n        \"std\": 0.8884667110889527,\n        \"min\": 2.5,\n        \"max\": 9.5,\n        \"num_unique_values\": 8,\n        \"samples\": [\n          4.5,\n          2.5,\n          3.5\n        ],\n        \"semantic_type\": \"\",\n        \"description\": \"\"\n      }\n    },\n    {\n      \"column\": \"Secret_dwarf_info_2\",\n      \"properties\": {\n        \"dtype\": \"number\",\n        \"std\": 0.7345787000033777,\n        \"min\": -3.0,\n        \"max\": 2.0,\n        \"num_unique_values\": 6,\n        \"samples\": [\n          -2.0,\n          -3.0,\n          1.0\n        ],\n        \"semantic_type\": \"\",\n        \"description\": \"\"\n      }\n    },\n    {\n      \"column\": \"Secret_dwarf_info_3\",\n      \"properties\": {\n        \"dtype\": \"number\",\n        \"std\": 0.49864529979382693,\n        \"min\": 5.0,\n        \"max\": 8.0,\n        \"num_unique_values\": 4,\n        \"samples\": [\n          6.0,\n          8.0,\n          5.0\n        ],\n        \"semantic_type\": \"\",\n        \"description\": \"\"\n      }\n    },\n    {\n      \"column\": \"First_default_date\",\n      \"properties\": {\n        \"dtype\": \"date\",\n        \"min\": \"2015-05-01 00:00:00\",\n        \"max\": \"2016-09-13 00:00:00\",\n        \"num_unique_values\": 68,\n        \"samples\": [\n          \"2015-09-06\",\n          \"2015-11-30\",\n          \"2016-04-30\"\n        ],\n        \"semantic_type\": \"\",\n        \"description\": \"\"\n      }\n    },\n    {\n      \"column\": \"Successful_deals_count\",\n      \"properties\": {\n        \"dtype\": \"number\",\n        \"std\": 1.6494155038393357,\n        \"min\": 0.0,\n        \"max\": 17.0,\n        \"num_unique_values\": 14,\n        \"samples\": [\n          7.0,\n          17.0,\n          0.0\n        ],\n        \"semantic_type\": \"\",\n        \"description\": \"\"\n      }\n    },\n    {\n      \"column\": \"Region\",\n      \"properties\": {\n        \"dtype\": \"category\",\n        \"num_unique_values\": 8,\n        \"samples\": [\n          \"Tavern_district_4\",\n          \"Tavern_district_0\",\n          \"Tavern_district_3\"\n        ],\n        \"semantic_type\": \"\",\n        \"description\": \"\"\n      }\n    },\n    {\n      \"column\": \"Tavern\",\n      \"properties\": {\n        \"dtype\": \"number\",\n        \"std\": 8,\n        \"min\": 2,\n        \"max\": 58,\n        \"num_unique_values\": 19,\n        \"samples\": [\n          7,\n          27,\n          2\n        ],\n        \"semantic_type\": \"\",\n        \"description\": \"\"\n      }\n    },\n    {\n      \"column\": \"Hashed_deal_detail_1\",\n      \"properties\": {\n        \"dtype\": \"number\",\n        \"std\": 0.35130845517867065,\n        \"min\": 2.5,\n        \"max\": 17.5,\n        \"num_unique_values\": 7,\n        \"samples\": [\n          2.5,\n          3.5,\n          7.5\n        ],\n        \"semantic_type\": \"\",\n        \"description\": \"\"\n      }\n    },\n    {\n      \"column\": \"Hashed_deal_detail_2\",\n      \"properties\": {\n        \"dtype\": \"number\",\n        \"std\": 2,\n        \"min\": -3,\n        \"max\": 78,\n        \"num_unique_values\": 23,\n        \"samples\": [\n          6,\n          10,\n          -3\n        ],\n        \"semantic_type\": \"\",\n        \"description\": \"\"\n      }\n    },\n    {\n      \"column\": \"Hashed_deal_detail_3\",\n      \"properties\": {\n        \"dtype\": \"number\",\n        \"std\": 3,\n        \"min\": 5,\n        \"max\": 29,\n        \"num_unique_values\": 23,\n        \"samples\": [\n          18,\n          16,\n          8\n        ],\n        \"semantic_type\": \"\",\n        \"description\": \"\"\n      }\n    },\n    {\n      \"column\": \"Hashed_deal_detail_4\",\n      \"properties\": {\n        \"dtype\": \"number\",\n        \"std\": 2.0487428459750445,\n        \"min\": 2.5,\n        \"max\": 37.5,\n        \"num_unique_values\": 21,\n        \"samples\": [\n          2.5,\n          18.5,\n          16.5\n        ],\n        \"semantic_type\": \"\",\n        \"description\": \"\"\n      }\n    },\n    {\n      \"column\": \"Hashed_deal_detail_5\",\n      \"properties\": {\n        \"dtype\": \"number\",\n        \"std\": 0,\n        \"min\": -3,\n        \"max\": 4,\n        \"num_unique_values\": 7,\n        \"samples\": [\n          -3,\n          -2,\n          4\n        ],\n        \"semantic_type\": \"\",\n        \"description\": \"\"\n      }\n    },\n    {\n      \"column\": \"Hashed_deal_detail_6\",\n      \"properties\": {\n        \"dtype\": \"number\",\n        \"std\": 0,\n        \"min\": 5,\n        \"max\": 5,\n        \"num_unique_values\": 1,\n        \"samples\": [\n          5\n        ],\n        \"semantic_type\": \"\",\n        \"description\": \"\"\n      }\n    },\n    {\n      \"column\": \"Age\",\n      \"properties\": {\n        \"dtype\": \"number\",\n        \"std\": 10.821443886186916,\n        \"min\": 20.0,\n        \"max\": 72.0,\n        \"num_unique_values\": 50,\n        \"samples\": [\n          35.0\n        ],\n        \"semantic_type\": \"\",\n        \"description\": \"\"\n      }\n    },\n    {\n      \"column\": \"Gender\",\n      \"properties\": {\n        \"dtype\": \"category\",\n        \"num_unique_values\": 2,\n        \"samples\": [\n          \"Female\"\n        ],\n        \"semantic_type\": \"\",\n        \"description\": \"\"\n      }\n    },\n    {\n      \"column\": \"Default\",\n      \"properties\": {\n        \"dtype\": \"number\",\n        \"std\": 0,\n        \"min\": 0,\n        \"max\": 1,\n        \"num_unique_values\": 2,\n        \"samples\": [\n          1\n        ],\n        \"semantic_type\": \"\",\n        \"description\": \"\"\n      }\n    }\n  ]\n}"
            }
          },
          "metadata": {},
          "execution_count": 1392
        }
      ]
    },
    {
      "cell_type": "code",
      "source": [
        "orders_data.info()"
      ],
      "metadata": {
        "colab": {
          "base_uri": "https://localhost:8080/"
        },
        "id": "sGjZ_Ii5PgKK",
        "outputId": "c0e3cfba-afdd-40e8-fd57-9644410b3481"
      },
      "execution_count": 1393,
      "outputs": [
        {
          "output_type": "stream",
          "name": "stdout",
          "text": [
            "<class 'pandas.core.frame.DataFrame'>\n",
            "RangeIndex: 3168 entries, 0 to 3167\n",
            "Data columns (total 19 columns):\n",
            " #   Column                  Non-Null Count  Dtype  \n",
            "---  ------                  --------------  -----  \n",
            " 0   Deal_id                 3168 non-null   int64  \n",
            " 1   Deal_date               3168 non-null   object \n",
            " 2   First_deal_date         3168 non-null   object \n",
            " 3   Secret_dwarf_info_1     535 non-null    float64\n",
            " 4   Secret_dwarf_info_2     535 non-null    float64\n",
            " 5   Secret_dwarf_info_3     535 non-null    float64\n",
            " 6   First_default_date      535 non-null    object \n",
            " 7   Successful_deals_count  3154 non-null   float64\n",
            " 8   Region                  3161 non-null   object \n",
            " 9   Tavern                  3168 non-null   int64  \n",
            " 10  Hashed_deal_detail_1    3168 non-null   float64\n",
            " 11  Hashed_deal_detail_2    3168 non-null   int64  \n",
            " 12  Hashed_deal_detail_3    3168 non-null   int64  \n",
            " 13  Hashed_deal_detail_4    3168 non-null   float64\n",
            " 14  Hashed_deal_detail_5    3168 non-null   int64  \n",
            " 15  Hashed_deal_detail_6    3168 non-null   int64  \n",
            " 16  Age                     3168 non-null   float64\n",
            " 17  Gender                  3168 non-null   object \n",
            " 18  Default                 3168 non-null   int64  \n",
            "dtypes: float64(7), int64(7), object(5)\n",
            "memory usage: 470.4+ KB\n"
          ]
        }
      ]
    },
    {
      "cell_type": "markdown",
      "source": [
        "В датасете есть категориальные данные, которые нужно преобразовать, а также пропуски, от которых надо избавиться или заполнить."
      ],
      "metadata": {
        "id": "sIy5V8oRNl4s"
      }
    },
    {
      "cell_type": "code",
      "source": [
        "orders_data.describe()"
      ],
      "metadata": {
        "colab": {
          "base_uri": "https://localhost:8080/",
          "height": 317
        },
        "id": "a8_hckRvNb7v",
        "outputId": "36bf335c-8c8d-4493-edd2-154d8d0463d2"
      },
      "execution_count": 1394,
      "outputs": [
        {
          "output_type": "execute_result",
          "data": {
            "text/plain": [
              "            Deal_id  Secret_dwarf_info_1  Secret_dwarf_info_2  \\\n",
              "count  3.168000e+03           535.000000           535.000000   \n",
              "mean   4.605727e+07             3.935514            -2.299065   \n",
              "std    5.370953e+07             0.888467             0.734579   \n",
              "min    5.856790e+05             2.500000            -3.000000   \n",
              "25%    2.761608e+07             3.500000            -3.000000   \n",
              "50%    4.349426e+07             3.500000            -2.000000   \n",
              "75%    5.778544e+07             4.500000            -2.000000   \n",
              "max    6.927701e+08             9.500000             2.000000   \n",
              "\n",
              "       Secret_dwarf_info_3  Successful_deals_count       Tavern  \\\n",
              "count           535.000000             3154.000000  3168.000000   \n",
              "mean              5.267290                1.043754    13.350694   \n",
              "std               0.498645                1.649416     8.851891   \n",
              "min               5.000000                0.000000     2.000000   \n",
              "25%               5.000000                0.000000     7.000000   \n",
              "50%               5.000000                0.000000     8.000000   \n",
              "75%               5.000000                2.000000    15.000000   \n",
              "max               8.000000               17.000000    58.000000   \n",
              "\n",
              "       Hashed_deal_detail_1  Hashed_deal_detail_2  Hashed_deal_detail_3  \\\n",
              "count           3168.000000           3168.000000           3168.000000   \n",
              "mean               2.518939             -2.404356              8.462437   \n",
              "std                0.351308              2.474564              3.521127   \n",
              "min                2.500000             -3.000000              5.000000   \n",
              "25%                2.500000             -3.000000              6.000000   \n",
              "50%                2.500000             -3.000000              8.000000   \n",
              "75%                2.500000             -3.000000             10.000000   \n",
              "max               17.500000             78.000000             29.000000   \n",
              "\n",
              "       Hashed_deal_detail_4  Hashed_deal_detail_5  Hashed_deal_detail_6  \\\n",
              "count           3168.000000           3168.000000                3168.0   \n",
              "mean               3.193813             -2.981692                   5.0   \n",
              "std                2.048743              0.245540                   0.0   \n",
              "min                2.500000             -3.000000                   5.0   \n",
              "25%                2.500000             -3.000000                   5.0   \n",
              "50%                2.500000             -3.000000                   5.0   \n",
              "75%                2.500000             -3.000000                   5.0   \n",
              "max               37.500000              4.000000                   5.0   \n",
              "\n",
              "               Age      Default  \n",
              "count  3168.000000  3168.000000  \n",
              "mean     36.411616     0.110795  \n",
              "std      10.821444     0.313928  \n",
              "min      20.000000     0.000000  \n",
              "25%      28.000000     0.000000  \n",
              "50%      34.000000     0.000000  \n",
              "75%      43.000000     0.000000  \n",
              "max      72.000000     1.000000  "
            ],
            "text/html": [
              "\n",
              "  <div id=\"df-f4b204bd-ffd9-4f69-84b6-84b6801722e5\" class=\"colab-df-container\">\n",
              "    <div>\n",
              "<style scoped>\n",
              "    .dataframe tbody tr th:only-of-type {\n",
              "        vertical-align: middle;\n",
              "    }\n",
              "\n",
              "    .dataframe tbody tr th {\n",
              "        vertical-align: top;\n",
              "    }\n",
              "\n",
              "    .dataframe thead th {\n",
              "        text-align: right;\n",
              "    }\n",
              "</style>\n",
              "<table border=\"1\" class=\"dataframe\">\n",
              "  <thead>\n",
              "    <tr style=\"text-align: right;\">\n",
              "      <th></th>\n",
              "      <th>Deal_id</th>\n",
              "      <th>Secret_dwarf_info_1</th>\n",
              "      <th>Secret_dwarf_info_2</th>\n",
              "      <th>Secret_dwarf_info_3</th>\n",
              "      <th>Successful_deals_count</th>\n",
              "      <th>Tavern</th>\n",
              "      <th>Hashed_deal_detail_1</th>\n",
              "      <th>Hashed_deal_detail_2</th>\n",
              "      <th>Hashed_deal_detail_3</th>\n",
              "      <th>Hashed_deal_detail_4</th>\n",
              "      <th>Hashed_deal_detail_5</th>\n",
              "      <th>Hashed_deal_detail_6</th>\n",
              "      <th>Age</th>\n",
              "      <th>Default</th>\n",
              "    </tr>\n",
              "  </thead>\n",
              "  <tbody>\n",
              "    <tr>\n",
              "      <th>count</th>\n",
              "      <td>3.168000e+03</td>\n",
              "      <td>535.000000</td>\n",
              "      <td>535.000000</td>\n",
              "      <td>535.000000</td>\n",
              "      <td>3154.000000</td>\n",
              "      <td>3168.000000</td>\n",
              "      <td>3168.000000</td>\n",
              "      <td>3168.000000</td>\n",
              "      <td>3168.000000</td>\n",
              "      <td>3168.000000</td>\n",
              "      <td>3168.000000</td>\n",
              "      <td>3168.0</td>\n",
              "      <td>3168.000000</td>\n",
              "      <td>3168.000000</td>\n",
              "    </tr>\n",
              "    <tr>\n",
              "      <th>mean</th>\n",
              "      <td>4.605727e+07</td>\n",
              "      <td>3.935514</td>\n",
              "      <td>-2.299065</td>\n",
              "      <td>5.267290</td>\n",
              "      <td>1.043754</td>\n",
              "      <td>13.350694</td>\n",
              "      <td>2.518939</td>\n",
              "      <td>-2.404356</td>\n",
              "      <td>8.462437</td>\n",
              "      <td>3.193813</td>\n",
              "      <td>-2.981692</td>\n",
              "      <td>5.0</td>\n",
              "      <td>36.411616</td>\n",
              "      <td>0.110795</td>\n",
              "    </tr>\n",
              "    <tr>\n",
              "      <th>std</th>\n",
              "      <td>5.370953e+07</td>\n",
              "      <td>0.888467</td>\n",
              "      <td>0.734579</td>\n",
              "      <td>0.498645</td>\n",
              "      <td>1.649416</td>\n",
              "      <td>8.851891</td>\n",
              "      <td>0.351308</td>\n",
              "      <td>2.474564</td>\n",
              "      <td>3.521127</td>\n",
              "      <td>2.048743</td>\n",
              "      <td>0.245540</td>\n",
              "      <td>0.0</td>\n",
              "      <td>10.821444</td>\n",
              "      <td>0.313928</td>\n",
              "    </tr>\n",
              "    <tr>\n",
              "      <th>min</th>\n",
              "      <td>5.856790e+05</td>\n",
              "      <td>2.500000</td>\n",
              "      <td>-3.000000</td>\n",
              "      <td>5.000000</td>\n",
              "      <td>0.000000</td>\n",
              "      <td>2.000000</td>\n",
              "      <td>2.500000</td>\n",
              "      <td>-3.000000</td>\n",
              "      <td>5.000000</td>\n",
              "      <td>2.500000</td>\n",
              "      <td>-3.000000</td>\n",
              "      <td>5.0</td>\n",
              "      <td>20.000000</td>\n",
              "      <td>0.000000</td>\n",
              "    </tr>\n",
              "    <tr>\n",
              "      <th>25%</th>\n",
              "      <td>2.761608e+07</td>\n",
              "      <td>3.500000</td>\n",
              "      <td>-3.000000</td>\n",
              "      <td>5.000000</td>\n",
              "      <td>0.000000</td>\n",
              "      <td>7.000000</td>\n",
              "      <td>2.500000</td>\n",
              "      <td>-3.000000</td>\n",
              "      <td>6.000000</td>\n",
              "      <td>2.500000</td>\n",
              "      <td>-3.000000</td>\n",
              "      <td>5.0</td>\n",
              "      <td>28.000000</td>\n",
              "      <td>0.000000</td>\n",
              "    </tr>\n",
              "    <tr>\n",
              "      <th>50%</th>\n",
              "      <td>4.349426e+07</td>\n",
              "      <td>3.500000</td>\n",
              "      <td>-2.000000</td>\n",
              "      <td>5.000000</td>\n",
              "      <td>0.000000</td>\n",
              "      <td>8.000000</td>\n",
              "      <td>2.500000</td>\n",
              "      <td>-3.000000</td>\n",
              "      <td>8.000000</td>\n",
              "      <td>2.500000</td>\n",
              "      <td>-3.000000</td>\n",
              "      <td>5.0</td>\n",
              "      <td>34.000000</td>\n",
              "      <td>0.000000</td>\n",
              "    </tr>\n",
              "    <tr>\n",
              "      <th>75%</th>\n",
              "      <td>5.778544e+07</td>\n",
              "      <td>4.500000</td>\n",
              "      <td>-2.000000</td>\n",
              "      <td>5.000000</td>\n",
              "      <td>2.000000</td>\n",
              "      <td>15.000000</td>\n",
              "      <td>2.500000</td>\n",
              "      <td>-3.000000</td>\n",
              "      <td>10.000000</td>\n",
              "      <td>2.500000</td>\n",
              "      <td>-3.000000</td>\n",
              "      <td>5.0</td>\n",
              "      <td>43.000000</td>\n",
              "      <td>0.000000</td>\n",
              "    </tr>\n",
              "    <tr>\n",
              "      <th>max</th>\n",
              "      <td>6.927701e+08</td>\n",
              "      <td>9.500000</td>\n",
              "      <td>2.000000</td>\n",
              "      <td>8.000000</td>\n",
              "      <td>17.000000</td>\n",
              "      <td>58.000000</td>\n",
              "      <td>17.500000</td>\n",
              "      <td>78.000000</td>\n",
              "      <td>29.000000</td>\n",
              "      <td>37.500000</td>\n",
              "      <td>4.000000</td>\n",
              "      <td>5.0</td>\n",
              "      <td>72.000000</td>\n",
              "      <td>1.000000</td>\n",
              "    </tr>\n",
              "  </tbody>\n",
              "</table>\n",
              "</div>\n",
              "    <div class=\"colab-df-buttons\">\n",
              "\n",
              "  <div class=\"colab-df-container\">\n",
              "    <button class=\"colab-df-convert\" onclick=\"convertToInteractive('df-f4b204bd-ffd9-4f69-84b6-84b6801722e5')\"\n",
              "            title=\"Convert this dataframe to an interactive table.\"\n",
              "            style=\"display:none;\">\n",
              "\n",
              "  <svg xmlns=\"http://www.w3.org/2000/svg\" height=\"24px\" viewBox=\"0 -960 960 960\">\n",
              "    <path d=\"M120-120v-720h720v720H120Zm60-500h600v-160H180v160Zm220 220h160v-160H400v160Zm0 220h160v-160H400v160ZM180-400h160v-160H180v160Zm440 0h160v-160H620v160ZM180-180h160v-160H180v160Zm440 0h160v-160H620v160Z\"/>\n",
              "  </svg>\n",
              "    </button>\n",
              "\n",
              "  <style>\n",
              "    .colab-df-container {\n",
              "      display:flex;\n",
              "      gap: 12px;\n",
              "    }\n",
              "\n",
              "    .colab-df-convert {\n",
              "      background-color: #E8F0FE;\n",
              "      border: none;\n",
              "      border-radius: 50%;\n",
              "      cursor: pointer;\n",
              "      display: none;\n",
              "      fill: #1967D2;\n",
              "      height: 32px;\n",
              "      padding: 0 0 0 0;\n",
              "      width: 32px;\n",
              "    }\n",
              "\n",
              "    .colab-df-convert:hover {\n",
              "      background-color: #E2EBFA;\n",
              "      box-shadow: 0px 1px 2px rgba(60, 64, 67, 0.3), 0px 1px 3px 1px rgba(60, 64, 67, 0.15);\n",
              "      fill: #174EA6;\n",
              "    }\n",
              "\n",
              "    .colab-df-buttons div {\n",
              "      margin-bottom: 4px;\n",
              "    }\n",
              "\n",
              "    [theme=dark] .colab-df-convert {\n",
              "      background-color: #3B4455;\n",
              "      fill: #D2E3FC;\n",
              "    }\n",
              "\n",
              "    [theme=dark] .colab-df-convert:hover {\n",
              "      background-color: #434B5C;\n",
              "      box-shadow: 0px 1px 3px 1px rgba(0, 0, 0, 0.15);\n",
              "      filter: drop-shadow(0px 1px 2px rgba(0, 0, 0, 0.3));\n",
              "      fill: #FFFFFF;\n",
              "    }\n",
              "  </style>\n",
              "\n",
              "    <script>\n",
              "      const buttonEl =\n",
              "        document.querySelector('#df-f4b204bd-ffd9-4f69-84b6-84b6801722e5 button.colab-df-convert');\n",
              "      buttonEl.style.display =\n",
              "        google.colab.kernel.accessAllowed ? 'block' : 'none';\n",
              "\n",
              "      async function convertToInteractive(key) {\n",
              "        const element = document.querySelector('#df-f4b204bd-ffd9-4f69-84b6-84b6801722e5');\n",
              "        const dataTable =\n",
              "          await google.colab.kernel.invokeFunction('convertToInteractive',\n",
              "                                                    [key], {});\n",
              "        if (!dataTable) return;\n",
              "\n",
              "        const docLinkHtml = 'Like what you see? Visit the ' +\n",
              "          '<a target=\"_blank\" href=https://colab.research.google.com/notebooks/data_table.ipynb>data table notebook</a>'\n",
              "          + ' to learn more about interactive tables.';\n",
              "        element.innerHTML = '';\n",
              "        dataTable['output_type'] = 'display_data';\n",
              "        await google.colab.output.renderOutput(dataTable, element);\n",
              "        const docLink = document.createElement('div');\n",
              "        docLink.innerHTML = docLinkHtml;\n",
              "        element.appendChild(docLink);\n",
              "      }\n",
              "    </script>\n",
              "  </div>\n",
              "\n",
              "\n",
              "<div id=\"df-14b6e86d-1563-4945-9efd-524e7065f221\">\n",
              "  <button class=\"colab-df-quickchart\" onclick=\"quickchart('df-14b6e86d-1563-4945-9efd-524e7065f221')\"\n",
              "            title=\"Suggest charts\"\n",
              "            style=\"display:none;\">\n",
              "\n",
              "<svg xmlns=\"http://www.w3.org/2000/svg\" height=\"24px\"viewBox=\"0 0 24 24\"\n",
              "     width=\"24px\">\n",
              "    <g>\n",
              "        <path d=\"M19 3H5c-1.1 0-2 .9-2 2v14c0 1.1.9 2 2 2h14c1.1 0 2-.9 2-2V5c0-1.1-.9-2-2-2zM9 17H7v-7h2v7zm4 0h-2V7h2v10zm4 0h-2v-4h2v4z\"/>\n",
              "    </g>\n",
              "</svg>\n",
              "  </button>\n",
              "\n",
              "<style>\n",
              "  .colab-df-quickchart {\n",
              "      --bg-color: #E8F0FE;\n",
              "      --fill-color: #1967D2;\n",
              "      --hover-bg-color: #E2EBFA;\n",
              "      --hover-fill-color: #174EA6;\n",
              "      --disabled-fill-color: #AAA;\n",
              "      --disabled-bg-color: #DDD;\n",
              "  }\n",
              "\n",
              "  [theme=dark] .colab-df-quickchart {\n",
              "      --bg-color: #3B4455;\n",
              "      --fill-color: #D2E3FC;\n",
              "      --hover-bg-color: #434B5C;\n",
              "      --hover-fill-color: #FFFFFF;\n",
              "      --disabled-bg-color: #3B4455;\n",
              "      --disabled-fill-color: #666;\n",
              "  }\n",
              "\n",
              "  .colab-df-quickchart {\n",
              "    background-color: var(--bg-color);\n",
              "    border: none;\n",
              "    border-radius: 50%;\n",
              "    cursor: pointer;\n",
              "    display: none;\n",
              "    fill: var(--fill-color);\n",
              "    height: 32px;\n",
              "    padding: 0;\n",
              "    width: 32px;\n",
              "  }\n",
              "\n",
              "  .colab-df-quickchart:hover {\n",
              "    background-color: var(--hover-bg-color);\n",
              "    box-shadow: 0 1px 2px rgba(60, 64, 67, 0.3), 0 1px 3px 1px rgba(60, 64, 67, 0.15);\n",
              "    fill: var(--button-hover-fill-color);\n",
              "  }\n",
              "\n",
              "  .colab-df-quickchart-complete:disabled,\n",
              "  .colab-df-quickchart-complete:disabled:hover {\n",
              "    background-color: var(--disabled-bg-color);\n",
              "    fill: var(--disabled-fill-color);\n",
              "    box-shadow: none;\n",
              "  }\n",
              "\n",
              "  .colab-df-spinner {\n",
              "    border: 2px solid var(--fill-color);\n",
              "    border-color: transparent;\n",
              "    border-bottom-color: var(--fill-color);\n",
              "    animation:\n",
              "      spin 1s steps(1) infinite;\n",
              "  }\n",
              "\n",
              "  @keyframes spin {\n",
              "    0% {\n",
              "      border-color: transparent;\n",
              "      border-bottom-color: var(--fill-color);\n",
              "      border-left-color: var(--fill-color);\n",
              "    }\n",
              "    20% {\n",
              "      border-color: transparent;\n",
              "      border-left-color: var(--fill-color);\n",
              "      border-top-color: var(--fill-color);\n",
              "    }\n",
              "    30% {\n",
              "      border-color: transparent;\n",
              "      border-left-color: var(--fill-color);\n",
              "      border-top-color: var(--fill-color);\n",
              "      border-right-color: var(--fill-color);\n",
              "    }\n",
              "    40% {\n",
              "      border-color: transparent;\n",
              "      border-right-color: var(--fill-color);\n",
              "      border-top-color: var(--fill-color);\n",
              "    }\n",
              "    60% {\n",
              "      border-color: transparent;\n",
              "      border-right-color: var(--fill-color);\n",
              "    }\n",
              "    80% {\n",
              "      border-color: transparent;\n",
              "      border-right-color: var(--fill-color);\n",
              "      border-bottom-color: var(--fill-color);\n",
              "    }\n",
              "    90% {\n",
              "      border-color: transparent;\n",
              "      border-bottom-color: var(--fill-color);\n",
              "    }\n",
              "  }\n",
              "</style>\n",
              "\n",
              "  <script>\n",
              "    async function quickchart(key) {\n",
              "      const quickchartButtonEl =\n",
              "        document.querySelector('#' + key + ' button');\n",
              "      quickchartButtonEl.disabled = true;  // To prevent multiple clicks.\n",
              "      quickchartButtonEl.classList.add('colab-df-spinner');\n",
              "      try {\n",
              "        const charts = await google.colab.kernel.invokeFunction(\n",
              "            'suggestCharts', [key], {});\n",
              "      } catch (error) {\n",
              "        console.error('Error during call to suggestCharts:', error);\n",
              "      }\n",
              "      quickchartButtonEl.classList.remove('colab-df-spinner');\n",
              "      quickchartButtonEl.classList.add('colab-df-quickchart-complete');\n",
              "    }\n",
              "    (() => {\n",
              "      let quickchartButtonEl =\n",
              "        document.querySelector('#df-14b6e86d-1563-4945-9efd-524e7065f221 button');\n",
              "      quickchartButtonEl.style.display =\n",
              "        google.colab.kernel.accessAllowed ? 'block' : 'none';\n",
              "    })();\n",
              "  </script>\n",
              "</div>\n",
              "    </div>\n",
              "  </div>\n"
            ],
            "application/vnd.google.colaboratory.intrinsic+json": {
              "type": "dataframe",
              "summary": "{\n  \"name\": \"orders_data\",\n  \"rows\": 8,\n  \"fields\": [\n    {\n      \"column\": \"Deal_id\",\n      \"properties\": {\n        \"dtype\": \"number\",\n        \"std\": 234418683.57652044,\n        \"min\": 3168.0,\n        \"max\": 692770100.0,\n        \"num_unique_values\": 8,\n        \"samples\": [\n          46057265.85669192,\n          43494262.5,\n          3168.0\n        ],\n        \"semantic_type\": \"\",\n        \"description\": \"\"\n      }\n    },\n    {\n      \"column\": \"Secret_dwarf_info_1\",\n      \"properties\": {\n        \"dtype\": \"number\",\n        \"std\": 187.73681777406685,\n        \"min\": 0.8884667110889527,\n        \"max\": 535.0,\n        \"num_unique_values\": 7,\n        \"samples\": [\n          535.0,\n          3.9355140186915887,\n          4.5\n        ],\n        \"semantic_type\": \"\",\n        \"description\": \"\"\n      }\n    },\n    {\n      \"column\": \"Secret_dwarf_info_2\",\n      \"properties\": {\n        \"dtype\": \"number\",\n        \"std\": 189.64271500481058,\n        \"min\": -3.0,\n        \"max\": 535.0,\n        \"num_unique_values\": 6,\n        \"samples\": [\n          535.0,\n          -2.2990654205607477,\n          2.0\n        ],\n        \"semantic_type\": \"\",\n        \"description\": \"\"\n      }\n    },\n    {\n      \"column\": \"Secret_dwarf_info_3\",\n      \"properties\": {\n        \"dtype\": \"number\",\n        \"std\": 187.4567214369802,\n        \"min\": 0.49864529979382693,\n        \"max\": 535.0,\n        \"num_unique_values\": 5,\n        \"samples\": [\n          5.267289719626168,\n          8.0,\n          0.49864529979382693\n        ],\n        \"semantic_type\": \"\",\n        \"description\": \"\"\n      }\n    },\n    {\n      \"column\": \"Successful_deals_count\",\n      \"properties\": {\n        \"dtype\": \"number\",\n        \"std\": 1114.0264437531398,\n        \"min\": 0.0,\n        \"max\": 3154.0,\n        \"num_unique_values\": 6,\n        \"samples\": [\n          3154.0,\n          1.0437539632213062,\n          17.0\n        ],\n        \"semantic_type\": \"\",\n        \"description\": \"\"\n      }\n    },\n    {\n      \"column\": \"Tavern\",\n      \"properties\": {\n        \"dtype\": \"number\",\n        \"std\": 1114.5287583105146,\n        \"min\": 2.0,\n        \"max\": 3168.0,\n        \"num_unique_values\": 8,\n        \"samples\": [\n          13.350694444444445,\n          8.0,\n          3168.0\n        ],\n        \"semantic_type\": \"\",\n        \"description\": \"\"\n      }\n    },\n    {\n      \"column\": \"Hashed_deal_detail_1\",\n      \"properties\": {\n        \"dtype\": \"number\",\n        \"std\": 1118.536364322495,\n        \"min\": 0.35130845517867065,\n        \"max\": 3168.0,\n        \"num_unique_values\": 5,\n        \"samples\": [\n          2.518939393939394,\n          17.5,\n          0.35130845517867065\n        ],\n        \"semantic_type\": \"\",\n        \"description\": \"\"\n      }\n    },\n    {\n      \"column\": \"Hashed_deal_detail_2\",\n      \"properties\": {\n        \"dtype\": \"number\",\n        \"std\": 1117.0723624510356,\n        \"min\": -3.0,\n        \"max\": 3168.0,\n        \"num_unique_values\": 5,\n        \"samples\": [\n          -2.4043560606060606,\n          78.0,\n          2.4745639954529217\n        ],\n        \"semantic_type\": \"\",\n        \"description\": \"\"\n      }\n    },\n    {\n      \"column\": \"Hashed_deal_detail_3\",\n      \"properties\": {\n        \"dtype\": \"number\",\n        \"std\": 1116.5512473759845,\n        \"min\": 3.521127086693759,\n        \"max\": 3168.0,\n        \"num_unique_values\": 8,\n        \"samples\": [\n          8.462436868686869,\n          8.0,\n          3168.0\n        ],\n        \"semantic_type\": \"\",\n        \"description\": \"\"\n      }\n    },\n    {\n      \"column\": \"Hashed_deal_detail_4\",\n      \"properties\": {\n        \"dtype\": \"number\",\n        \"std\": 1117.4602467396564,\n        \"min\": 2.0487428459750445,\n        \"max\": 3168.0,\n        \"num_unique_values\": 5,\n        \"samples\": [\n          3.1938131313131315,\n          37.5,\n          2.0487428459750445\n        ],\n        \"semantic_type\": \"\",\n        \"description\": \"\"\n      }\n    },\n    {\n      \"column\": \"Hashed_deal_detail_5\",\n      \"properties\": {\n        \"dtype\": \"number\",\n        \"std\": 1120.6022344483351,\n        \"min\": -3.0,\n        \"max\": 3168.0,\n        \"num_unique_values\": 5,\n        \"samples\": [\n          -2.981691919191919,\n          4.0,\n          0.24554002868729682\n        ],\n        \"semantic_type\": \"\",\n        \"description\": \"\"\n      }\n    },\n    {\n      \"column\": \"Hashed_deal_detail_6\",\n      \"properties\": {\n        \"dtype\": \"number\",\n        \"std\": 1118.5432809813715,\n        \"min\": 0.0,\n        \"max\": 3168.0,\n        \"num_unique_values\": 3,\n        \"samples\": [\n          3168.0,\n          5.0,\n          0.0\n        ],\n        \"semantic_type\": \"\",\n        \"description\": \"\"\n      }\n    },\n    {\n      \"column\": \"Age\",\n      \"properties\": {\n        \"dtype\": \"number\",\n        \"std\": 1107.8694548178553,\n        \"min\": 10.821443886186916,\n        \"max\": 3168.0,\n        \"num_unique_values\": 8,\n        \"samples\": [\n          36.41161616161616,\n          34.0,\n          3168.0\n        ],\n        \"semantic_type\": \"\",\n        \"description\": \"\"\n      }\n    },\n    {\n      \"column\": \"Default\",\n      \"properties\": {\n        \"dtype\": \"number\",\n        \"std\": 1119.9852343378193,\n        \"min\": 0.0,\n        \"max\": 3168.0,\n        \"num_unique_values\": 5,\n        \"samples\": [\n          0.11079545454545454,\n          1.0,\n          0.3139282243533402\n        ],\n        \"semantic_type\": \"\",\n        \"description\": \"\"\n      }\n    }\n  ]\n}"
            }
          },
          "metadata": {},
          "execution_count": 1394
        }
      ]
    },
    {
      "cell_type": "markdown",
      "source": [
        "Столбец \"Hashed_deal_detail_6\" содержит только значения 5, значит им можно пренебречь."
      ],
      "metadata": {
        "id": "qMUySFf7M6Cy"
      }
    },
    {
      "cell_type": "code",
      "source": [
        "print(orders_data.shape)\n",
        "orders_data.drop(['Hashed_deal_detail_6'], axis = 1, inplace = True)\n",
        "orders_data.shape"
      ],
      "metadata": {
        "colab": {
          "base_uri": "https://localhost:8080/"
        },
        "id": "qzPvuuckOdsN",
        "outputId": "5bf3e49b-e537-4d86-bfb5-a3bc86e5726b"
      },
      "execution_count": 1395,
      "outputs": [
        {
          "output_type": "stream",
          "name": "stdout",
          "text": [
            "(3168, 19)\n"
          ]
        },
        {
          "output_type": "execute_result",
          "data": {
            "text/plain": [
              "(3168, 18)"
            ]
          },
          "metadata": {},
          "execution_count": 1395
        }
      ]
    },
    {
      "cell_type": "markdown",
      "source": [
        "Заменим значения \"Male\" и \"Female\" в столбце \"Gender\" на 0 т 1 соответственно."
      ],
      "metadata": {
        "id": "bsx8o9rRPpfg"
      }
    },
    {
      "cell_type": "code",
      "source": [
        "orders_data['Gender'].replace('Male', 0, inplace = True)\n",
        "orders_data['Gender'].replace('Female', 1, inplace = True)"
      ],
      "metadata": {
        "id": "uxaOKksZ3B-H"
      },
      "execution_count": 1396,
      "outputs": []
    },
    {
      "cell_type": "markdown",
      "source": [],
      "metadata": {
        "id": "wXigW6LB8y-z"
      }
    },
    {
      "cell_type": "code",
      "source": [
        "orders_data.isna().sum()"
      ],
      "metadata": {
        "colab": {
          "base_uri": "https://localhost:8080/"
        },
        "id": "CJGB2vUC52D-",
        "outputId": "69ffba65-4278-4a96-ae63-4d5e70796ac3"
      },
      "execution_count": 1397,
      "outputs": [
        {
          "output_type": "execute_result",
          "data": {
            "text/plain": [
              "Deal_id                      0\n",
              "Deal_date                    0\n",
              "First_deal_date              0\n",
              "Secret_dwarf_info_1       2633\n",
              "Secret_dwarf_info_2       2633\n",
              "Secret_dwarf_info_3       2633\n",
              "First_default_date        2633\n",
              "Successful_deals_count      14\n",
              "Region                       7\n",
              "Tavern                       0\n",
              "Hashed_deal_detail_1         0\n",
              "Hashed_deal_detail_2         0\n",
              "Hashed_deal_detail_3         0\n",
              "Hashed_deal_detail_4         0\n",
              "Hashed_deal_detail_5         0\n",
              "Age                          0\n",
              "Gender                       0\n",
              "Default                      0\n",
              "dtype: int64"
            ]
          },
          "metadata": {},
          "execution_count": 1397
        }
      ]
    },
    {
      "cell_type": "markdown",
      "source": [
        "Построим тепловую карту для пропусков данных."
      ],
      "metadata": {
        "id": "KzQKf0Rnv9Sg"
      }
    },
    {
      "cell_type": "code",
      "source": [
        "plt.figure(figsize = (10,7))\n",
        "sns.heatmap(orders_data.isna().transpose())"
      ],
      "metadata": {
        "colab": {
          "base_uri": "https://localhost:8080/",
          "height": 643
        },
        "id": "_cg6TlC455z2",
        "outputId": "2334e022-e9ff-49a3-9dae-d7f46a99a052"
      },
      "execution_count": 1398,
      "outputs": [
        {
          "output_type": "execute_result",
          "data": {
            "text/plain": [
              "<Axes: >"
            ]
          },
          "metadata": {},
          "execution_count": 1398
        },
        {
          "output_type": "display_data",
          "data": {
            "text/plain": [
              "<Figure size 1000x700 with 2 Axes>"
            ],
            "image/png": "[encoded data removed]"
          },
          "metadata": {}
        }
      ]
    },
    {
      "cell_type": "markdown",
      "source": [
        "Видно что 3 столбца с засекреченными признакми и столбец даты первого дефолта по гному имеют большое количество пропусков, а имено 83%, так что имеет смысл их вовсе исключить из датасета."
      ],
      "metadata": {
        "id": "e107T4TWZmzG"
      }
    },
    {
      "cell_type": "code",
      "source": [
        "orders_data.drop(['Secret_dwarf_info_1', 'Secret_dwarf_info_2', 'Secret_dwarf_info_3', 'First_default_date'], axis = 1, inplace = True)\n",
        "orders_data.shape"
      ],
      "metadata": {
        "colab": {
          "base_uri": "https://localhost:8080/"
        },
        "id": "mFWNvqM7ZmPK",
        "outputId": "1561c074-2dc7-49c3-a6a1-0341f09c29ac"
      },
      "execution_count": 1399,
      "outputs": [
        {
          "output_type": "execute_result",
          "data": {
            "text/plain": [
              "(3168, 14)"
            ]
          },
          "metadata": {},
          "execution_count": 1399
        }
      ]
    },
    {
      "cell_type": "markdown",
      "source": [
        "Заменим пропуски свойства \"Region\" на моду."
      ],
      "metadata": {
        "id": "0tQu2CxtanuU"
      }
    },
    {
      "cell_type": "code",
      "source": [
        "orders_data['Region'].value_counts()"
      ],
      "metadata": {
        "colab": {
          "base_uri": "https://localhost:8080/"
        },
        "id": "vKLA289vaoVr",
        "outputId": "14482784-567f-480a-975b-575bd02f712f"
      },
      "execution_count": 1400,
      "outputs": [
        {
          "output_type": "execute_result",
          "data": {
            "text/plain": [
              "Region\n",
              "Tavern_district_3    1204\n",
              "Tavern_district_6     478\n",
              "Tavern_district_2     448\n",
              "Tavern_district_4     364\n",
              "Tavern_district_1     240\n",
              "Tavern_district_0     213\n",
              "Tavern_district_5     160\n",
              "Tavern_district_7      54\n",
              "Name: count, dtype: int64"
            ]
          },
          "metadata": {},
          "execution_count": 1400
        }
      ]
    },
    {
      "cell_type": "code",
      "source": [
        "orders_data['Region'].mode()[0]"
      ],
      "metadata": {
        "colab": {
          "base_uri": "https://localhost:8080/",
          "height": 35
        },
        "id": "OazVgCKNHIsr",
        "outputId": "fb2583fd-82b5-4c42-ac68-446577585318"
      },
      "execution_count": 1401,
      "outputs": [
        {
          "output_type": "execute_result",
          "data": {
            "text/plain": [
              "'Tavern_district_3'"
            ],
            "application/vnd.google.colaboratory.intrinsic+json": {
              "type": "string"
            }
          },
          "metadata": {},
          "execution_count": 1401
        }
      ]
    },
    {
      "cell_type": "code",
      "source": [
        "orders_data['Region'] = orders_data['Region'].fillna(orders_data['Region'].mode()[0])"
      ],
      "metadata": {
        "id": "T2sZ2XJ5qhRn"
      },
      "execution_count": 1402,
      "outputs": []
    },
    {
      "cell_type": "markdown",
      "source": [
        "Проверим, что не осталось пропусков."
      ],
      "metadata": {
        "id": "re2qgeo_rnL0"
      }
    },
    {
      "cell_type": "code",
      "source": [
        "orders_data['Region'].isna().sum()"
      ],
      "metadata": {
        "colab": {
          "base_uri": "https://localhost:8080/"
        },
        "id": "Fe7SB9qQq2vt",
        "outputId": "ec0f6cae-db8d-4fc1-b4c2-ecf222706ab2"
      },
      "execution_count": 1403,
      "outputs": [
        {
          "output_type": "execute_result",
          "data": {
            "text/plain": [
              "0"
            ]
          },
          "metadata": {},
          "execution_count": 1403
        }
      ]
    },
    {
      "cell_type": "markdown",
      "source": [
        "Проверим, что пропуски заменились на моду."
      ],
      "metadata": {
        "id": "HRPv84B_rpD7"
      }
    },
    {
      "cell_type": "code",
      "source": [
        "orders_data['Region'].value_counts()"
      ],
      "metadata": {
        "colab": {
          "base_uri": "https://localhost:8080/"
        },
        "id": "f0ePVajyrQpA",
        "outputId": "93917f0c-2b1e-4a38-a4fe-d0bc8f30c6c7"
      },
      "execution_count": 1404,
      "outputs": [
        {
          "output_type": "execute_result",
          "data": {
            "text/plain": [
              "Region\n",
              "Tavern_district_3    1211\n",
              "Tavern_district_6     478\n",
              "Tavern_district_2     448\n",
              "Tavern_district_4     364\n",
              "Tavern_district_1     240\n",
              "Tavern_district_0     213\n",
              "Tavern_district_5     160\n",
              "Tavern_district_7      54\n",
              "Name: count, dtype: int64"
            ]
          },
          "metadata": {},
          "execution_count": 1404
        }
      ]
    },
    {
      "cell_type": "markdown",
      "source": [
        "Так как пропуски из фичи \"Region\" были заменены, то создадим бинарные колонки для регионов дистриктов вместо категориального признака \"Region\". Если клиент, сделавший этот заказ, сделал его в таверне дистректа 3, то в значении для дистректа 3 будет стоять единица, а для остальных дистректов 0."
      ],
      "metadata": {
        "id": "JuAbIe_9z2dt"
      }
    },
    {
      "cell_type": "code",
      "source": [
        "region_cols = pd.get_dummies(orders_data['Region'], dtype = 'int')\n",
        "region_cols.head()"
      ],
      "metadata": {
        "colab": {
          "base_uri": "https://localhost:8080/",
          "height": 204
        },
        "id": "aiHH-Ogcz3HD",
        "outputId": "448fb5c2-84eb-4e5c-e0bb-12351f347884"
      },
      "execution_count": 1405,
      "outputs": [
        {
          "output_type": "execute_result",
          "data": {
            "text/plain": [
              "   Tavern_district_0  Tavern_district_1  Tavern_district_2  Tavern_district_3  \\\n",
              "0                  0                  0                  0                  1   \n",
              "1                  0                  0                  0                  0   \n",
              "2                  0                  0                  0                  0   \n",
              "3                  0                  0                  1                  0   \n",
              "4                  0                  0                  0                  0   \n",
              "\n",
              "   Tavern_district_4  Tavern_district_5  Tavern_district_6  Tavern_district_7  \n",
              "0                  0                  0                  0                  0  \n",
              "1                  1                  0                  0                  0  \n",
              "2                  0                  0                  1                  0  \n",
              "3                  0                  0                  0                  0  \n",
              "4                  1                  0                  0                  0  "
            ],
            "text/html": [
              "\n",
              "  <div id=\"df-e04b6a82-c4fb-4eb8-9462-b34b0bf9d45d\" class=\"colab-df-container\">\n",
              "    <div>\n",
              "<style scoped>\n",
              "    .dataframe tbody tr th:only-of-type {\n",
              "        vertical-align: middle;\n",
              "    }\n",
              "\n",
              "    .dataframe tbody tr th {\n",
              "        vertical-align: top;\n",
              "    }\n",
              "\n",
              "    .dataframe thead th {\n",
              "        text-align: right;\n",
              "    }\n",
              "</style>\n",
              "<table border=\"1\" class=\"dataframe\">\n",
              "  <thead>\n",
              "    <tr style=\"text-align: right;\">\n",
              "      <th></th>\n",
              "      <th>Tavern_district_0</th>\n",
              "      <th>Tavern_district_1</th>\n",
              "      <th>Tavern_district_2</th>\n",
              "      <th>Tavern_district_3</th>\n",
              "      <th>Tavern_district_4</th>\n",
              "      <th>Tavern_district_5</th>\n",
              "      <th>Tavern_district_6</th>\n",
              "      <th>Tavern_district_7</th>\n",
              "    </tr>\n",
              "  </thead>\n",
              "  <tbody>\n",
              "    <tr>\n",
              "      <th>0</th>\n",
              "      <td>0</td>\n",
              "      <td>0</td>\n",
              "      <td>0</td>\n",
              "      <td>1</td>\n",
              "      <td>0</td>\n",
              "      <td>0</td>\n",
              "      <td>0</td>\n",
              "      <td>0</td>\n",
              "    </tr>\n",
              "    <tr>\n",
              "      <th>1</th>\n",
              "      <td>0</td>\n",
              "      <td>0</td>\n",
              "      <td>0</td>\n",
              "      <td>0</td>\n",
              "      <td>1</td>\n",
              "      <td>0</td>\n",
              "      <td>0</td>\n",
              "      <td>0</td>\n",
              "    </tr>\n",
              "    <tr>\n",
              "      <th>2</th>\n",
              "      <td>0</td>\n",
              "      <td>0</td>\n",
              "      <td>0</td>\n",
              "      <td>0</td>\n",
              "      <td>0</td>\n",
              "      <td>0</td>\n",
              "      <td>1</td>\n",
              "      <td>0</td>\n",
              "    </tr>\n",
              "    <tr>\n",
              "      <th>3</th>\n",
              "      <td>0</td>\n",
              "      <td>0</td>\n",
              "      <td>1</td>\n",
              "      <td>0</td>\n",
              "      <td>0</td>\n",
              "      <td>0</td>\n",
              "      <td>0</td>\n",
              "      <td>0</td>\n",
              "    </tr>\n",
              "    <tr>\n",
              "      <th>4</th>\n",
              "      <td>0</td>\n",
              "      <td>0</td>\n",
              "      <td>0</td>\n",
              "      <td>0</td>\n",
              "      <td>1</td>\n",
              "      <td>0</td>\n",
              "      <td>0</td>\n",
              "      <td>0</td>\n",
              "    </tr>\n",
              "  </tbody>\n",
              "</table>\n",
              "</div>\n",
              "    <div class=\"colab-df-buttons\">\n",
              "\n",
              "  <div class=\"colab-df-container\">\n",
              "    <button class=\"colab-df-convert\" onclick=\"convertToInteractive('df-e04b6a82-c4fb-4eb8-9462-b34b0bf9d45d')\"\n",
              "            title=\"Convert this dataframe to an interactive table.\"\n",
              "            style=\"display:none;\">\n",
              "\n",
              "  <svg xmlns=\"http://www.w3.org/2000/svg\" height=\"24px\" viewBox=\"0 -960 960 960\">\n",
              "    <path d=\"M120-120v-720h720v720H120Zm60-500h600v-160H180v160Zm220 220h160v-160H400v160Zm0 220h160v-160H400v160ZM180-400h160v-160H180v160Zm440 0h160v-160H620v160ZM180-180h160v-160H180v160Zm440 0h160v-160H620v160Z\"/>\n",
              "  </svg>\n",
              "    </button>\n",
              "\n",
              "  <style>\n",
              "    .colab-df-container {\n",
              "      display:flex;\n",
              "      gap: 12px;\n",
              "    }\n",
              "\n",
              "    .colab-df-convert {\n",
              "      background-color: #E8F0FE;\n",
              "      border: none;\n",
              "      border-radius: 50%;\n",
              "      cursor: pointer;\n",
              "      display: none;\n",
              "      fill: #1967D2;\n",
              "      height: 32px;\n",
              "      padding: 0 0 0 0;\n",
              "      width: 32px;\n",
              "    }\n",
              "\n",
              "    .colab-df-convert:hover {\n",
              "      background-color: #E2EBFA;\n",
              "      box-shadow: 0px 1px 2px rgba(60, 64, 67, 0.3), 0px 1px 3px 1px rgba(60, 64, 67, 0.15);\n",
              "      fill: #174EA6;\n",
              "    }\n",
              "\n",
              "    .colab-df-buttons div {\n",
              "      margin-bottom: 4px;\n",
              "    }\n",
              "\n",
              "    [theme=dark] .colab-df-convert {\n",
              "      background-color: #3B4455;\n",
              "      fill: #D2E3FC;\n",
              "    }\n",
              "\n",
              "    [theme=dark] .colab-df-convert:hover {\n",
              "      background-color: #434B5C;\n",
              "      box-shadow: 0px 1px 3px 1px rgba(0, 0, 0, 0.15);\n",
              "      filter: drop-shadow(0px 1px 2px rgba(0, 0, 0, 0.3));\n",
              "      fill: #FFFFFF;\n",
              "    }\n",
              "  </style>\n",
              "\n",
              "    <script>\n",
              "      const buttonEl =\n",
              "        document.querySelector('#df-e04b6a82-c4fb-4eb8-9462-b34b0bf9d45d button.colab-df-convert');\n",
              "      buttonEl.style.display =\n",
              "        google.colab.kernel.accessAllowed ? 'block' : 'none';\n",
              "\n",
              "      async function convertToInteractive(key) {\n",
              "        const element = document.querySelector('#df-e04b6a82-c4fb-4eb8-9462-b34b0bf9d45d');\n",
              "        const dataTable =\n",
              "          await google.colab.kernel.invokeFunction('convertToInteractive',\n",
              "                                                    [key], {});\n",
              "        if (!dataTable) return;\n",
              "\n",
              "        const docLinkHtml = 'Like what you see? Visit the ' +\n",
              "          '<a target=\"_blank\" href=https://colab.research.google.com/notebooks/data_table.ipynb>data table notebook</a>'\n",
              "          + ' to learn more about interactive tables.';\n",
              "        element.innerHTML = '';\n",
              "        dataTable['output_type'] = 'display_data';\n",
              "        await google.colab.output.renderOutput(dataTable, element);\n",
              "        const docLink = document.createElement('div');\n",
              "        docLink.innerHTML = docLinkHtml;\n",
              "        element.appendChild(docLink);\n",
              "      }\n",
              "    </script>\n",
              "  </div>\n",
              "\n",
              "\n",
              "<div id=\"df-f2eae3d4-4386-4cb1-a264-c487fda15905\">\n",
              "  <button class=\"colab-df-quickchart\" onclick=\"quickchart('df-f2eae3d4-4386-4cb1-a264-c487fda15905')\"\n",
              "            title=\"Suggest charts\"\n",
              "            style=\"display:none;\">\n",
              "\n",
              "<svg xmlns=\"http://www.w3.org/2000/svg\" height=\"24px\"viewBox=\"0 0 24 24\"\n",
              "     width=\"24px\">\n",
              "    <g>\n",
              "        <path d=\"M19 3H5c-1.1 0-2 .9-2 2v14c0 1.1.9 2 2 2h14c1.1 0 2-.9 2-2V5c0-1.1-.9-2-2-2zM9 17H7v-7h2v7zm4 0h-2V7h2v10zm4 0h-2v-4h2v4z\"/>\n",
              "    </g>\n",
              "</svg>\n",
              "  </button>\n",
              "\n",
              "<style>\n",
              "  .colab-df-quickchart {\n",
              "      --bg-color: #E8F0FE;\n",
              "      --fill-color: #1967D2;\n",
              "      --hover-bg-color: #E2EBFA;\n",
              "      --hover-fill-color: #174EA6;\n",
              "      --disabled-fill-color: #AAA;\n",
              "      --disabled-bg-color: #DDD;\n",
              "  }\n",
              "\n",
              "  [theme=dark] .colab-df-quickchart {\n",
              "      --bg-color: #3B4455;\n",
              "      --fill-color: #D2E3FC;\n",
              "      --hover-bg-color: #434B5C;\n",
              "      --hover-fill-color: #FFFFFF;\n",
              "      --disabled-bg-color: #3B4455;\n",
              "      --disabled-fill-color: #666;\n",
              "  }\n",
              "\n",
              "  .colab-df-quickchart {\n",
              "    background-color: var(--bg-color);\n",
              "    border: none;\n",
              "    border-radius: 50%;\n",
              "    cursor: pointer;\n",
              "    display: none;\n",
              "    fill: var(--fill-color);\n",
              "    height: 32px;\n",
              "    padding: 0;\n",
              "    width: 32px;\n",
              "  }\n",
              "\n",
              "  .colab-df-quickchart:hover {\n",
              "    background-color: var(--hover-bg-color);\n",
              "    box-shadow: 0 1px 2px rgba(60, 64, 67, 0.3), 0 1px 3px 1px rgba(60, 64, 67, 0.15);\n",
              "    fill: var(--button-hover-fill-color);\n",
              "  }\n",
              "\n",
              "  .colab-df-quickchart-complete:disabled,\n",
              "  .colab-df-quickchart-complete:disabled:hover {\n",
              "    background-color: var(--disabled-bg-color);\n",
              "    fill: var(--disabled-fill-color);\n",
              "    box-shadow: none;\n",
              "  }\n",
              "\n",
              "  .colab-df-spinner {\n",
              "    border: 2px solid var(--fill-color);\n",
              "    border-color: transparent;\n",
              "    border-bottom-color: var(--fill-color);\n",
              "    animation:\n",
              "      spin 1s steps(1) infinite;\n",
              "  }\n",
              "\n",
              "  @keyframes spin {\n",
              "    0% {\n",
              "      border-color: transparent;\n",
              "      border-bottom-color: var(--fill-color);\n",
              "      border-left-color: var(--fill-color);\n",
              "    }\n",
              "    20% {\n",
              "      border-color: transparent;\n",
              "      border-left-color: var(--fill-color);\n",
              "      border-top-color: var(--fill-color);\n",
              "    }\n",
              "    30% {\n",
              "      border-color: transparent;\n",
              "      border-left-color: var(--fill-color);\n",
              "      border-top-color: var(--fill-color);\n",
              "      border-right-color: var(--fill-color);\n",
              "    }\n",
              "    40% {\n",
              "      border-color: transparent;\n",
              "      border-right-color: var(--fill-color);\n",
              "      border-top-color: var(--fill-color);\n",
              "    }\n",
              "    60% {\n",
              "      border-color: transparent;\n",
              "      border-right-color: var(--fill-color);\n",
              "    }\n",
              "    80% {\n",
              "      border-color: transparent;\n",
              "      border-right-color: var(--fill-color);\n",
              "      border-bottom-color: var(--fill-color);\n",
              "    }\n",
              "    90% {\n",
              "      border-color: transparent;\n",
              "      border-bottom-color: var(--fill-color);\n",
              "    }\n",
              "  }\n",
              "</style>\n",
              "\n",
              "  <script>\n",
              "    async function quickchart(key) {\n",
              "      const quickchartButtonEl =\n",
              "        document.querySelector('#' + key + ' button');\n",
              "      quickchartButtonEl.disabled = true;  // To prevent multiple clicks.\n",
              "      quickchartButtonEl.classList.add('colab-df-spinner');\n",
              "      try {\n",
              "        const charts = await google.colab.kernel.invokeFunction(\n",
              "            'suggestCharts', [key], {});\n",
              "      } catch (error) {\n",
              "        console.error('Error during call to suggestCharts:', error);\n",
              "      }\n",
              "      quickchartButtonEl.classList.remove('colab-df-spinner');\n",
              "      quickchartButtonEl.classList.add('colab-df-quickchart-complete');\n",
              "    }\n",
              "    (() => {\n",
              "      let quickchartButtonEl =\n",
              "        document.querySelector('#df-f2eae3d4-4386-4cb1-a264-c487fda15905 button');\n",
              "      quickchartButtonEl.style.display =\n",
              "        google.colab.kernel.accessAllowed ? 'block' : 'none';\n",
              "    })();\n",
              "  </script>\n",
              "</div>\n",
              "    </div>\n",
              "  </div>\n"
            ],
            "application/vnd.google.colaboratory.intrinsic+json": {
              "type": "dataframe",
              "variable_name": "region_cols",
              "summary": "{\n  \"name\": \"region_cols\",\n  \"rows\": 3168,\n  \"fields\": [\n    {\n      \"column\": \"Tavern_district_0\",\n      \"properties\": {\n        \"dtype\": \"number\",\n        \"std\": 0,\n        \"min\": 0,\n        \"max\": 1,\n        \"num_unique_values\": 2,\n        \"samples\": [\n          1,\n          0\n        ],\n        \"semantic_type\": \"\",\n        \"description\": \"\"\n      }\n    },\n    {\n      \"column\": \"Tavern_district_1\",\n      \"properties\": {\n        \"dtype\": \"number\",\n        \"std\": 0,\n        \"min\": 0,\n        \"max\": 1,\n        \"num_unique_values\": 2,\n        \"samples\": [\n          1,\n          0\n        ],\n        \"semantic_type\": \"\",\n        \"description\": \"\"\n      }\n    },\n    {\n      \"column\": \"Tavern_district_2\",\n      \"properties\": {\n        \"dtype\": \"number\",\n        \"std\": 0,\n        \"min\": 0,\n        \"max\": 1,\n        \"num_unique_values\": 2,\n        \"samples\": [\n          1,\n          0\n        ],\n        \"semantic_type\": \"\",\n        \"description\": \"\"\n      }\n    },\n    {\n      \"column\": \"Tavern_district_3\",\n      \"properties\": {\n        \"dtype\": \"number\",\n        \"std\": 0,\n        \"min\": 0,\n        \"max\": 1,\n        \"num_unique_values\": 2,\n        \"samples\": [\n          0,\n          1\n        ],\n        \"semantic_type\": \"\",\n        \"description\": \"\"\n      }\n    },\n    {\n      \"column\": \"Tavern_district_4\",\n      \"properties\": {\n        \"dtype\": \"number\",\n        \"std\": 0,\n        \"min\": 0,\n        \"max\": 1,\n        \"num_unique_values\": 2,\n        \"samples\": [\n          1,\n          0\n        ],\n        \"semantic_type\": \"\",\n        \"description\": \"\"\n      }\n    },\n    {\n      \"column\": \"Tavern_district_5\",\n      \"properties\": {\n        \"dtype\": \"number\",\n        \"std\": 0,\n        \"min\": 0,\n        \"max\": 1,\n        \"num_unique_values\": 2,\n        \"samples\": [\n          1,\n          0\n        ],\n        \"semantic_type\": \"\",\n        \"description\": \"\"\n      }\n    },\n    {\n      \"column\": \"Tavern_district_6\",\n      \"properties\": {\n        \"dtype\": \"number\",\n        \"std\": 0,\n        \"min\": 0,\n        \"max\": 1,\n        \"num_unique_values\": 2,\n        \"samples\": [\n          1,\n          0\n        ],\n        \"semantic_type\": \"\",\n        \"description\": \"\"\n      }\n    },\n    {\n      \"column\": \"Tavern_district_7\",\n      \"properties\": {\n        \"dtype\": \"number\",\n        \"std\": 0,\n        \"min\": 0,\n        \"max\": 1,\n        \"num_unique_values\": 2,\n        \"samples\": [\n          1,\n          0\n        ],\n        \"semantic_type\": \"\",\n        \"description\": \"\"\n      }\n    }\n  ]\n}"
            }
          },
          "metadata": {},
          "execution_count": 1405
        }
      ]
    },
    {
      "cell_type": "markdown",
      "source": [
        "Проверим, что значений действительно 3168."
      ],
      "metadata": {
        "id": "rid8NjTj2tgE"
      }
    },
    {
      "cell_type": "code",
      "source": [
        "region_cols.value_counts().sum()"
      ],
      "metadata": {
        "colab": {
          "base_uri": "https://localhost:8080/"
        },
        "id": "VUQswnN22sRb",
        "outputId": "7febbf44-43af-4867-8c10-c4125de61adb"
      },
      "execution_count": 1406,
      "outputs": [
        {
          "output_type": "execute_result",
          "data": {
            "text/plain": [
              "3168"
            ]
          },
          "metadata": {},
          "execution_count": 1406
        }
      ]
    },
    {
      "cell_type": "code",
      "source": [
        "tavern_cols = pd.get_dummies(orders_data['Tavern'], dtype = 'int64')\n",
        "tavern_cols.columns = tavern_cols.columns.astype(str)\n",
        "tavern_cols"
      ],
      "metadata": {
        "colab": {
          "base_uri": "https://localhost:8080/",
          "height": 419
        },
        "id": "MoH7DXaJke4t",
        "outputId": "8587b0d5-a27f-4831-938f-1ebae1680825"
      },
      "execution_count": 1407,
      "outputs": [
        {
          "output_type": "execute_result",
          "data": {
            "text/plain": [
              "      2  7  8  10  13  15  17  18  22  23  26  27  39  43  44  45  47  49  58\n",
              "0     0  1  0   0   0   0   0   0   0   0   0   0   0   0   0   0   0   0   0\n",
              "1     0  1  0   0   0   0   0   0   0   0   0   0   0   0   0   0   0   0   0\n",
              "2     0  1  0   0   0   0   0   0   0   0   0   0   0   0   0   0   0   0   0\n",
              "3     0  0  0   0   1   0   0   0   0   0   0   0   0   0   0   0   0   0   0\n",
              "4     0  0  0   0   0   0   0   0   0   0   0   0   1   0   0   0   0   0   0\n",
              "...  .. .. ..  ..  ..  ..  ..  ..  ..  ..  ..  ..  ..  ..  ..  ..  ..  ..  ..\n",
              "3163  0  1  0   0   0   0   0   0   0   0   0   0   0   0   0   0   0   0   0\n",
              "3164  0  1  0   0   0   0   0   0   0   0   0   0   0   0   0   0   0   0   0\n",
              "3165  0  1  0   0   0   0   0   0   0   0   0   0   0   0   0   0   0   0   0\n",
              "3166  0  1  0   0   0   0   0   0   0   0   0   0   0   0   0   0   0   0   0\n",
              "3167  0  0  0   0   1   0   0   0   0   0   0   0   0   0   0   0   0   0   0\n",
              "\n",
              "[3168 rows x 19 columns]"
            ],
            "text/html": [
              "\n",
              "  <div id=\"df-e2ce1250-e783-4c3d-8006-9d8aec8099c2\" class=\"colab-df-container\">\n",
              "    <div>\n",
              "<style scoped>\n",
              "    .dataframe tbody tr th:only-of-type {\n",
              "        vertical-align: middle;\n",
              "    }\n",
              "\n",
              "    .dataframe tbody tr th {\n",
              "        vertical-align: top;\n",
              "    }\n",
              "\n",
              "    .dataframe thead th {\n",
              "        text-align: right;\n",
              "    }\n",
              "</style>\n",
              "<table border=\"1\" class=\"dataframe\">\n",
              "  <thead>\n",
              "    <tr style=\"text-align: right;\">\n",
              "      <th></th>\n",
              "      <th>2</th>\n",
              "      <th>7</th>\n",
              "      <th>8</th>\n",
              "      <th>10</th>\n",
              "      <th>13</th>\n",
              "      <th>15</th>\n",
              "      <th>17</th>\n",
              "      <th>18</th>\n",
              "      <th>22</th>\n",
              "      <th>23</th>\n",
              "      <th>26</th>\n",
              "      <th>27</th>\n",
              "      <th>39</th>\n",
              "      <th>43</th>\n",
              "      <th>44</th>\n",
              "      <th>45</th>\n",
              "      <th>47</th>\n",
              "      <th>49</th>\n",
              "      <th>58</th>\n",
              "    </tr>\n",
              "  </thead>\n",
              "  <tbody>\n",
              "    <tr>\n",
              "      <th>0</th>\n",
              "      <td>0</td>\n",
              "      <td>1</td>\n",
              "      <td>0</td>\n",
              "      <td>0</td>\n",
              "      <td>0</td>\n",
              "      <td>0</td>\n",
              "      <td>0</td>\n",
              "      <td>0</td>\n",
              "      <td>0</td>\n",
              "      <td>0</td>\n",
              "      <td>0</td>\n",
              "      <td>0</td>\n",
              "      <td>0</td>\n",
              "      <td>0</td>\n",
              "      <td>0</td>\n",
              "      <td>0</td>\n",
              "      <td>0</td>\n",
              "      <td>0</td>\n",
              "      <td>0</td>\n",
              "    </tr>\n",
              "    <tr>\n",
              "      <th>1</th>\n",
              "      <td>0</td>\n",
              "      <td>1</td>\n",
              "      <td>0</td>\n",
              "      <td>0</td>\n",
              "      <td>0</td>\n",
              "      <td>0</td>\n",
              "      <td>0</td>\n",
              "      <td>0</td>\n",
              "      <td>0</td>\n",
              "      <td>0</td>\n",
              "      <td>0</td>\n",
              "      <td>0</td>\n",
              "      <td>0</td>\n",
              "      <td>0</td>\n",
              "      <td>0</td>\n",
              "      <td>0</td>\n",
              "      <td>0</td>\n",
              "      <td>0</td>\n",
              "      <td>0</td>\n",
              "    </tr>\n",
              "    <tr>\n",
              "      <th>2</th>\n",
              "      <td>0</td>\n",
              "      <td>1</td>\n",
              "      <td>0</td>\n",
              "      <td>0</td>\n",
              "      <td>0</td>\n",
              "      <td>0</td>\n",
              "      <td>0</td>\n",
              "      <td>0</td>\n",
              "      <td>0</td>\n",
              "      <td>0</td>\n",
              "      <td>0</td>\n",
              "      <td>0</td>\n",
              "      <td>0</td>\n",
              "      <td>0</td>\n",
              "      <td>0</td>\n",
              "      <td>0</td>\n",
              "      <td>0</td>\n",
              "      <td>0</td>\n",
              "      <td>0</td>\n",
              "    </tr>\n",
              "    <tr>\n",
              "      <th>3</th>\n",
              "      <td>0</td>\n",
              "      <td>0</td>\n",
              "      <td>0</td>\n",
              "      <td>0</td>\n",
              "      <td>1</td>\n",
              "      <td>0</td>\n",
              "      <td>0</td>\n",
              "      <td>0</td>\n",
              "      <td>0</td>\n",
              "      <td>0</td>\n",
              "      <td>0</td>\n",
              "      <td>0</td>\n",
              "      <td>0</td>\n",
              "      <td>0</td>\n",
              "      <td>0</td>\n",
              "      <td>0</td>\n",
              "      <td>0</td>\n",
              "      <td>0</td>\n",
              "      <td>0</td>\n",
              "    </tr>\n",
              "    <tr>\n",
              "      <th>4</th>\n",
              "      <td>0</td>\n",
              "      <td>0</td>\n",
              "      <td>0</td>\n",
              "      <td>0</td>\n",
              "      <td>0</td>\n",
              "      <td>0</td>\n",
              "      <td>0</td>\n",
              "      <td>0</td>\n",
              "      <td>0</td>\n",
              "      <td>0</td>\n",
              "      <td>0</td>\n",
              "      <td>0</td>\n",
              "      <td>1</td>\n",
              "      <td>0</td>\n",
              "      <td>0</td>\n",
              "      <td>0</td>\n",
              "      <td>0</td>\n",
              "      <td>0</td>\n",
              "      <td>0</td>\n",
              "    </tr>\n",
              "    <tr>\n",
              "      <th>...</th>\n",
              "      <td>...</td>\n",
              "      <td>...</td>\n",
              "      <td>...</td>\n",
              "      <td>...</td>\n",
              "      <td>...</td>\n",
              "      <td>...</td>\n",
              "      <td>...</td>\n",
              "      <td>...</td>\n",
              "      <td>...</td>\n",
              "      <td>...</td>\n",
              "      <td>...</td>\n",
              "      <td>...</td>\n",
              "      <td>...</td>\n",
              "      <td>...</td>\n",
              "      <td>...</td>\n",
              "      <td>...</td>\n",
              "      <td>...</td>\n",
              "      <td>...</td>\n",
              "      <td>...</td>\n",
              "    </tr>\n",
              "    <tr>\n",
              "      <th>3163</th>\n",
              "      <td>0</td>\n",
              "      <td>1</td>\n",
              "      <td>0</td>\n",
              "      <td>0</td>\n",
              "      <td>0</td>\n",
              "      <td>0</td>\n",
              "      <td>0</td>\n",
              "      <td>0</td>\n",
              "      <td>0</td>\n",
              "      <td>0</td>\n",
              "      <td>0</td>\n",
              "      <td>0</td>\n",
              "      <td>0</td>\n",
              "      <td>0</td>\n",
              "      <td>0</td>\n",
              "      <td>0</td>\n",
              "      <td>0</td>\n",
              "      <td>0</td>\n",
              "      <td>0</td>\n",
              "    </tr>\n",
              "    <tr>\n",
              "      <th>3164</th>\n",
              "      <td>0</td>\n",
              "      <td>1</td>\n",
              "      <td>0</td>\n",
              "      <td>0</td>\n",
              "      <td>0</td>\n",
              "      <td>0</td>\n",
              "      <td>0</td>\n",
              "      <td>0</td>\n",
              "      <td>0</td>\n",
              "      <td>0</td>\n",
              "      <td>0</td>\n",
              "      <td>0</td>\n",
              "      <td>0</td>\n",
              "      <td>0</td>\n",
              "      <td>0</td>\n",
              "      <td>0</td>\n",
              "      <td>0</td>\n",
              "      <td>0</td>\n",
              "      <td>0</td>\n",
              "    </tr>\n",
              "    <tr>\n",
              "      <th>3165</th>\n",
              "      <td>0</td>\n",
              "      <td>1</td>\n",
              "      <td>0</td>\n",
              "      <td>0</td>\n",
              "      <td>0</td>\n",
              "      <td>0</td>\n",
              "      <td>0</td>\n",
              "      <td>0</td>\n",
              "      <td>0</td>\n",
              "      <td>0</td>\n",
              "      <td>0</td>\n",
              "      <td>0</td>\n",
              "      <td>0</td>\n",
              "      <td>0</td>\n",
              "      <td>0</td>\n",
              "      <td>0</td>\n",
              "      <td>0</td>\n",
              "      <td>0</td>\n",
              "      <td>0</td>\n",
              "    </tr>\n",
              "    <tr>\n",
              "      <th>3166</th>\n",
              "      <td>0</td>\n",
              "      <td>1</td>\n",
              "      <td>0</td>\n",
              "      <td>0</td>\n",
              "      <td>0</td>\n",
              "      <td>0</td>\n",
              "      <td>0</td>\n",
              "      <td>0</td>\n",
              "      <td>0</td>\n",
              "      <td>0</td>\n",
              "      <td>0</td>\n",
              "      <td>0</td>\n",
              "      <td>0</td>\n",
              "      <td>0</td>\n",
              "      <td>0</td>\n",
              "      <td>0</td>\n",
              "      <td>0</td>\n",
              "      <td>0</td>\n",
              "      <td>0</td>\n",
              "    </tr>\n",
              "    <tr>\n",
              "      <th>3167</th>\n",
              "      <td>0</td>\n",
              "      <td>0</td>\n",
              "      <td>0</td>\n",
              "      <td>0</td>\n",
              "      <td>1</td>\n",
              "      <td>0</td>\n",
              "      <td>0</td>\n",
              "      <td>0</td>\n",
              "      <td>0</td>\n",
              "      <td>0</td>\n",
              "      <td>0</td>\n",
              "      <td>0</td>\n",
              "      <td>0</td>\n",
              "      <td>0</td>\n",
              "      <td>0</td>\n",
              "      <td>0</td>\n",
              "      <td>0</td>\n",
              "      <td>0</td>\n",
              "      <td>0</td>\n",
              "    </tr>\n",
              "  </tbody>\n",
              "</table>\n",
              "<p>3168 rows × 19 columns</p>\n",
              "</div>\n",
              "    <div class=\"colab-df-buttons\">\n",
              "\n",
              "  <div class=\"colab-df-container\">\n",
              "    <button class=\"colab-df-convert\" onclick=\"convertToInteractive('df-e2ce1250-e783-4c3d-8006-9d8aec8099c2')\"\n",
              "            title=\"Convert this dataframe to an interactive table.\"\n",
              "            style=\"display:none;\">\n",
              "\n",
              "  <svg xmlns=\"http://www.w3.org/2000/svg\" height=\"24px\" viewBox=\"0 -960 960 960\">\n",
              "    <path d=\"M120-120v-720h720v720H120Zm60-500h600v-160H180v160Zm220 220h160v-160H400v160Zm0 220h160v-160H400v160ZM180-400h160v-160H180v160Zm440 0h160v-160H620v160ZM180-180h160v-160H180v160Zm440 0h160v-160H620v160Z\"/>\n",
              "  </svg>\n",
              "    </button>\n",
              "\n",
              "  <style>\n",
              "    .colab-df-container {\n",
              "      display:flex;\n",
              "      gap: 12px;\n",
              "    }\n",
              "\n",
              "    .colab-df-convert {\n",
              "      background-color: #E8F0FE;\n",
              "      border: none;\n",
              "      border-radius: 50%;\n",
              "      cursor: pointer;\n",
              "      display: none;\n",
              "      fill: #1967D2;\n",
              "      height: 32px;\n",
              "      padding: 0 0 0 0;\n",
              "      width: 32px;\n",
              "    }\n",
              "\n",
              "    .colab-df-convert:hover {\n",
              "      background-color: #E2EBFA;\n",
              "      box-shadow: 0px 1px 2px rgba(60, 64, 67, 0.3), 0px 1px 3px 1px rgba(60, 64, 67, 0.15);\n",
              "      fill: #174EA6;\n",
              "    }\n",
              "\n",
              "    .colab-df-buttons div {\n",
              "      margin-bottom: 4px;\n",
              "    }\n",
              "\n",
              "    [theme=dark] .colab-df-convert {\n",
              "      background-color: #3B4455;\n",
              "      fill: #D2E3FC;\n",
              "    }\n",
              "\n",
              "    [theme=dark] .colab-df-convert:hover {\n",
              "      background-color: #434B5C;\n",
              "      box-shadow: 0px 1px 3px 1px rgba(0, 0, 0, 0.15);\n",
              "      filter: drop-shadow(0px 1px 2px rgba(0, 0, 0, 0.3));\n",
              "      fill: #FFFFFF;\n",
              "    }\n",
              "  </style>\n",
              "\n",
              "    <script>\n",
              "      const buttonEl =\n",
              "        document.querySelector('#df-e2ce1250-e783-4c3d-8006-9d8aec8099c2 button.colab-df-convert');\n",
              "      buttonEl.style.display =\n",
              "        google.colab.kernel.accessAllowed ? 'block' : 'none';\n",
              "\n",
              "      async function convertToInteractive(key) {\n",
              "        const element = document.querySelector('#df-e2ce1250-e783-4c3d-8006-9d8aec8099c2');\n",
              "        const dataTable =\n",
              "          await google.colab.kernel.invokeFunction('convertToInteractive',\n",
              "                                                    [key], {});\n",
              "        if (!dataTable) return;\n",
              "\n",
              "        const docLinkHtml = 'Like what you see? Visit the ' +\n",
              "          '<a target=\"_blank\" href=https://colab.research.google.com/notebooks/data_table.ipynb>data table notebook</a>'\n",
              "          + ' to learn more about interactive tables.';\n",
              "        element.innerHTML = '';\n",
              "        dataTable['output_type'] = 'display_data';\n",
              "        await google.colab.output.renderOutput(dataTable, element);\n",
              "        const docLink = document.createElement('div');\n",
              "        docLink.innerHTML = docLinkHtml;\n",
              "        element.appendChild(docLink);\n",
              "      }\n",
              "    </script>\n",
              "  </div>\n",
              "\n",
              "\n",
              "<div id=\"df-8c115d38-3d0c-4e24-8acd-cc2bd46e871b\">\n",
              "  <button class=\"colab-df-quickchart\" onclick=\"quickchart('df-8c115d38-3d0c-4e24-8acd-cc2bd46e871b')\"\n",
              "            title=\"Suggest charts\"\n",
              "            style=\"display:none;\">\n",
              "\n",
              "<svg xmlns=\"http://www.w3.org/2000/svg\" height=\"24px\"viewBox=\"0 0 24 24\"\n",
              "     width=\"24px\">\n",
              "    <g>\n",
              "        <path d=\"M19 3H5c-1.1 0-2 .9-2 2v14c0 1.1.9 2 2 2h14c1.1 0 2-.9 2-2V5c0-1.1-.9-2-2-2zM9 17H7v-7h2v7zm4 0h-2V7h2v10zm4 0h-2v-4h2v4z\"/>\n",
              "    </g>\n",
              "</svg>\n",
              "  </button>\n",
              "\n",
              "<style>\n",
              "  .colab-df-quickchart {\n",
              "      --bg-color: #E8F0FE;\n",
              "      --fill-color: #1967D2;\n",
              "      --hover-bg-color: #E2EBFA;\n",
              "      --hover-fill-color: #174EA6;\n",
              "      --disabled-fill-color: #AAA;\n",
              "      --disabled-bg-color: #DDD;\n",
              "  }\n",
              "\n",
              "  [theme=dark] .colab-df-quickchart {\n",
              "      --bg-color: #3B4455;\n",
              "      --fill-color: #D2E3FC;\n",
              "      --hover-bg-color: #434B5C;\n",
              "      --hover-fill-color: #FFFFFF;\n",
              "      --disabled-bg-color: #3B4455;\n",
              "      --disabled-fill-color: #666;\n",
              "  }\n",
              "\n",
              "  .colab-df-quickchart {\n",
              "    background-color: var(--bg-color);\n",
              "    border: none;\n",
              "    border-radius: 50%;\n",
              "    cursor: pointer;\n",
              "    display: none;\n",
              "    fill: var(--fill-color);\n",
              "    height: 32px;\n",
              "    padding: 0;\n",
              "    width: 32px;\n",
              "  }\n",
              "\n",
              "  .colab-df-quickchart:hover {\n",
              "    background-color: var(--hover-bg-color);\n",
              "    box-shadow: 0 1px 2px rgba(60, 64, 67, 0.3), 0 1px 3px 1px rgba(60, 64, 67, 0.15);\n",
              "    fill: var(--button-hover-fill-color);\n",
              "  }\n",
              "\n",
              "  .colab-df-quickchart-complete:disabled,\n",
              "  .colab-df-quickchart-complete:disabled:hover {\n",
              "    background-color: var(--disabled-bg-color);\n",
              "    fill: var(--disabled-fill-color);\n",
              "    box-shadow: none;\n",
              "  }\n",
              "\n",
              "  .colab-df-spinner {\n",
              "    border: 2px solid var(--fill-color);\n",
              "    border-color: transparent;\n",
              "    border-bottom-color: var(--fill-color);\n",
              "    animation:\n",
              "      spin 1s steps(1) infinite;\n",
              "  }\n",
              "\n",
              "  @keyframes spin {\n",
              "    0% {\n",
              "      border-color: transparent;\n",
              "      border-bottom-color: var(--fill-color);\n",
              "      border-left-color: var(--fill-color);\n",
              "    }\n",
              "    20% {\n",
              "      border-color: transparent;\n",
              "      border-left-color: var(--fill-color);\n",
              "      border-top-color: var(--fill-color);\n",
              "    }\n",
              "    30% {\n",
              "      border-color: transparent;\n",
              "      border-left-color: var(--fill-color);\n",
              "      border-top-color: var(--fill-color);\n",
              "      border-right-color: var(--fill-color);\n",
              "    }\n",
              "    40% {\n",
              "      border-color: transparent;\n",
              "      border-right-color: var(--fill-color);\n",
              "      border-top-color: var(--fill-color);\n",
              "    }\n",
              "    60% {\n",
              "      border-color: transparent;\n",
              "      border-right-color: var(--fill-color);\n",
              "    }\n",
              "    80% {\n",
              "      border-color: transparent;\n",
              "      border-right-color: var(--fill-color);\n",
              "      border-bottom-color: var(--fill-color);\n",
              "    }\n",
              "    90% {\n",
              "      border-color: transparent;\n",
              "      border-bottom-color: var(--fill-color);\n",
              "    }\n",
              "  }\n",
              "</style>\n",
              "\n",
              "  <script>\n",
              "    async function quickchart(key) {\n",
              "      const quickchartButtonEl =\n",
              "        document.querySelector('#' + key + ' button');\n",
              "      quickchartButtonEl.disabled = true;  // To prevent multiple clicks.\n",
              "      quickchartButtonEl.classList.add('colab-df-spinner');\n",
              "      try {\n",
              "        const charts = await google.colab.kernel.invokeFunction(\n",
              "            'suggestCharts', [key], {});\n",
              "      } catch (error) {\n",
              "        console.error('Error during call to suggestCharts:', error);\n",
              "      }\n",
              "      quickchartButtonEl.classList.remove('colab-df-spinner');\n",
              "      quickchartButtonEl.classList.add('colab-df-quickchart-complete');\n",
              "    }\n",
              "    (() => {\n",
              "      let quickchartButtonEl =\n",
              "        document.querySelector('#df-8c115d38-3d0c-4e24-8acd-cc2bd46e871b button');\n",
              "      quickchartButtonEl.style.display =\n",
              "        google.colab.kernel.accessAllowed ? 'block' : 'none';\n",
              "    })();\n",
              "  </script>\n",
              "</div>\n",
              "    </div>\n",
              "  </div>\n"
            ],
            "application/vnd.google.colaboratory.intrinsic+json": {
              "type": "dataframe",
              "variable_name": "tavern_cols",
              "summary": "{\n  \"name\": \"tavern_cols\",\n  \"rows\": 3168,\n  \"fields\": [\n    {\n      \"column\": \"2\",\n      \"properties\": {\n        \"dtype\": \"number\",\n        \"std\": 0,\n        \"min\": 0,\n        \"max\": 1,\n        \"num_unique_values\": 2,\n        \"samples\": [\n          1,\n          0\n        ],\n        \"semantic_type\": \"\",\n        \"description\": \"\"\n      }\n    },\n    {\n      \"column\": \"7\",\n      \"properties\": {\n        \"dtype\": \"number\",\n        \"std\": 0,\n        \"min\": 0,\n        \"max\": 1,\n        \"num_unique_values\": 2,\n        \"samples\": [\n          0,\n          1\n        ],\n        \"semantic_type\": \"\",\n        \"description\": \"\"\n      }\n    },\n    {\n      \"column\": \"8\",\n      \"properties\": {\n        \"dtype\": \"number\",\n        \"std\": 0,\n        \"min\": 0,\n        \"max\": 1,\n        \"num_unique_values\": 2,\n        \"samples\": [\n          1,\n          0\n        ],\n        \"semantic_type\": \"\",\n        \"description\": \"\"\n      }\n    },\n    {\n      \"column\": \"10\",\n      \"properties\": {\n        \"dtype\": \"number\",\n        \"std\": 0,\n        \"min\": 0,\n        \"max\": 1,\n        \"num_unique_values\": 2,\n        \"samples\": [\n          1,\n          0\n        ],\n        \"semantic_type\": \"\",\n        \"description\": \"\"\n      }\n    },\n    {\n      \"column\": \"13\",\n      \"properties\": {\n        \"dtype\": \"number\",\n        \"std\": 0,\n        \"min\": 0,\n        \"max\": 1,\n        \"num_unique_values\": 2,\n        \"samples\": [\n          1,\n          0\n        ],\n        \"semantic_type\": \"\",\n        \"description\": \"\"\n      }\n    },\n    {\n      \"column\": \"15\",\n      \"properties\": {\n        \"dtype\": \"number\",\n        \"std\": 0,\n        \"min\": 0,\n        \"max\": 1,\n        \"num_unique_values\": 2,\n        \"samples\": [\n          1,\n          0\n        ],\n        \"semantic_type\": \"\",\n        \"description\": \"\"\n      }\n    },\n    {\n      \"column\": \"17\",\n      \"properties\": {\n        \"dtype\": \"number\",\n        \"std\": 0,\n        \"min\": 0,\n        \"max\": 1,\n        \"num_unique_values\": 2,\n        \"samples\": [\n          1,\n          0\n        ],\n        \"semantic_type\": \"\",\n        \"description\": \"\"\n      }\n    },\n    {\n      \"column\": \"18\",\n      \"properties\": {\n        \"dtype\": \"number\",\n        \"std\": 0,\n        \"min\": 0,\n        \"max\": 1,\n        \"num_unique_values\": 2,\n        \"samples\": [\n          1,\n          0\n        ],\n        \"semantic_type\": \"\",\n        \"description\": \"\"\n      }\n    },\n    {\n      \"column\": \"22\",\n      \"properties\": {\n        \"dtype\": \"number\",\n        \"std\": 0,\n        \"min\": 0,\n        \"max\": 1,\n        \"num_unique_values\": 2,\n        \"samples\": [\n          1,\n          0\n        ],\n        \"semantic_type\": \"\",\n        \"description\": \"\"\n      }\n    },\n    {\n      \"column\": \"23\",\n      \"properties\": {\n        \"dtype\": \"number\",\n        \"std\": 0,\n        \"min\": 0,\n        \"max\": 1,\n        \"num_unique_values\": 2,\n        \"samples\": [\n          1,\n          0\n        ],\n        \"semantic_type\": \"\",\n        \"description\": \"\"\n      }\n    },\n    {\n      \"column\": \"26\",\n      \"properties\": {\n        \"dtype\": \"number\",\n        \"std\": 0,\n        \"min\": 0,\n        \"max\": 1,\n        \"num_unique_values\": 2,\n        \"samples\": [\n          1,\n          0\n        ],\n        \"semantic_type\": \"\",\n        \"description\": \"\"\n      }\n    },\n    {\n      \"column\": \"27\",\n      \"properties\": {\n        \"dtype\": \"number\",\n        \"std\": 0,\n        \"min\": 0,\n        \"max\": 1,\n        \"num_unique_values\": 2,\n        \"samples\": [\n          1,\n          0\n        ],\n        \"semantic_type\": \"\",\n        \"description\": \"\"\n      }\n    },\n    {\n      \"column\": \"39\",\n      \"properties\": {\n        \"dtype\": \"number\",\n        \"std\": 0,\n        \"min\": 0,\n        \"max\": 1,\n        \"num_unique_values\": 2,\n        \"samples\": [\n          1,\n          0\n        ],\n        \"semantic_type\": \"\",\n        \"description\": \"\"\n      }\n    },\n    {\n      \"column\": \"43\",\n      \"properties\": {\n        \"dtype\": \"number\",\n        \"std\": 0,\n        \"min\": 0,\n        \"max\": 1,\n        \"num_unique_values\": 2,\n        \"samples\": [\n          1,\n          0\n        ],\n        \"semantic_type\": \"\",\n        \"description\": \"\"\n      }\n    },\n    {\n      \"column\": \"44\",\n      \"properties\": {\n        \"dtype\": \"number\",\n        \"std\": 0,\n        \"min\": 0,\n        \"max\": 1,\n        \"num_unique_values\": 2,\n        \"samples\": [\n          1,\n          0\n        ],\n        \"semantic_type\": \"\",\n        \"description\": \"\"\n      }\n    },\n    {\n      \"column\": \"45\",\n      \"properties\": {\n        \"dtype\": \"number\",\n        \"std\": 0,\n        \"min\": 0,\n        \"max\": 1,\n        \"num_unique_values\": 2,\n        \"samples\": [\n          1,\n          0\n        ],\n        \"semantic_type\": \"\",\n        \"description\": \"\"\n      }\n    },\n    {\n      \"column\": \"47\",\n      \"properties\": {\n        \"dtype\": \"number\",\n        \"std\": 0,\n        \"min\": 0,\n        \"max\": 1,\n        \"num_unique_values\": 2,\n        \"samples\": [\n          1,\n          0\n        ],\n        \"semantic_type\": \"\",\n        \"description\": \"\"\n      }\n    },\n    {\n      \"column\": \"49\",\n      \"properties\": {\n        \"dtype\": \"number\",\n        \"std\": 0,\n        \"min\": 0,\n        \"max\": 1,\n        \"num_unique_values\": 2,\n        \"samples\": [\n          1,\n          0\n        ],\n        \"semantic_type\": \"\",\n        \"description\": \"\"\n      }\n    },\n    {\n      \"column\": \"58\",\n      \"properties\": {\n        \"dtype\": \"number\",\n        \"std\": 0,\n        \"min\": 0,\n        \"max\": 1,\n        \"num_unique_values\": 2,\n        \"samples\": [\n          1,\n          0\n        ],\n        \"semantic_type\": \"\",\n        \"description\": \"\"\n      }\n    }\n  ]\n}"
            }
          },
          "metadata": {},
          "execution_count": 1407
        }
      ]
    },
    {
      "cell_type": "markdown",
      "source": [
        "Заменим пропуски свойства \"Successful_deals_count\" на среднее значение."
      ],
      "metadata": {
        "id": "5ADyvWL5r4vE"
      }
    },
    {
      "cell_type": "code",
      "source": [
        "orders_data['Successful_deals_count'].mean()"
      ],
      "metadata": {
        "colab": {
          "base_uri": "https://localhost:8080/"
        },
        "id": "P7sZ6qxrr6vq",
        "outputId": "c6767dff-cb9b-442e-8b17-e1d76f9e490f"
      },
      "execution_count": 1408,
      "outputs": [
        {
          "output_type": "execute_result",
          "data": {
            "text/plain": [
              "1.0437539632213062"
            ]
          },
          "metadata": {},
          "execution_count": 1408
        }
      ]
    },
    {
      "cell_type": "markdown",
      "source": [
        "Так как не бывает нецелого количества заказов, то округлим число и заменим им пропуски"
      ],
      "metadata": {
        "id": "HjfM8sVIvkP8"
      }
    },
    {
      "cell_type": "code",
      "source": [
        "orders_data['Successful_deals_count'].fillna(int(orders_data['Successful_deals_count'].mean()), inplace = True)"
      ],
      "metadata": {
        "id": "qw5pOQ-ftWR9"
      },
      "execution_count": 1409,
      "outputs": []
    },
    {
      "cell_type": "code",
      "source": [
        "orders_data['Successful_deals_count'] = orders_data['Successful_deals_count'].astype('int64')"
      ],
      "metadata": {
        "id": "S6RwLGfMtudM"
      },
      "execution_count": 1410,
      "outputs": []
    },
    {
      "cell_type": "code",
      "source": [
        "orders_data['Successful_deals_count'].value_counts()"
      ],
      "metadata": {
        "colab": {
          "base_uri": "https://localhost:8080/"
        },
        "id": "SHK86c7Ztwwj",
        "outputId": "fd5baaf9-a713-41ca-ce5a-d745a7d4d590"
      },
      "execution_count": 1411,
      "outputs": [
        {
          "output_type": "execute_result",
          "data": {
            "text/plain": [
              "Successful_deals_count\n",
              "0     1903\n",
              "2      592\n",
              "3      244\n",
              "1      208\n",
              "4      105\n",
              "5       52\n",
              "6       23\n",
              "7       13\n",
              "8        9\n",
              "9        8\n",
              "10       6\n",
              "17       2\n",
              "12       2\n",
              "11       1\n",
              "Name: count, dtype: int64"
            ]
          },
          "metadata": {},
          "execution_count": 1411
        }
      ]
    },
    {
      "cell_type": "markdown",
      "source": [
        "Построим тепловую карту ещё раз, как видно, пропусков больше нет. Осталось преобразовать даты в тип данных даты и можно делать модельку."
      ],
      "metadata": {
        "id": "cFOllerlwH0h"
      }
    },
    {
      "cell_type": "code",
      "source": [
        "plt.figure(figsize = (10,7))\n",
        "sns.heatmap(orders_data.isna().transpose())"
      ],
      "metadata": {
        "colab": {
          "base_uri": "https://localhost:8080/",
          "height": 643
        },
        "id": "yX6Mvs3wu0oC",
        "outputId": "430a693c-11ea-4156-99af-5457f2737b58"
      },
      "execution_count": 1412,
      "outputs": [
        {
          "output_type": "execute_result",
          "data": {
            "text/plain": [
              "<Axes: >"
            ]
          },
          "metadata": {},
          "execution_count": 1412
        },
        {
          "output_type": "display_data",
          "data": {
            "text/plain": [
              "<Figure size 1000x700 with 2 Axes>"
            ],
            "image/png": "[encoded data removed]"
          },
          "metadata": {}
        }
      ]
    },
    {
      "cell_type": "markdown",
      "source": [
        "убедимся, что пропусков действительно нет."
      ],
      "metadata": {
        "id": "hU5L5EOC1FQa"
      }
    },
    {
      "cell_type": "code",
      "source": [
        "orders_data.isna().sum()"
      ],
      "metadata": {
        "colab": {
          "base_uri": "https://localhost:8080/"
        },
        "id": "Em2OXgl-1ERU",
        "outputId": "b8082eaf-234a-490d-f89f-efd18cbd5368"
      },
      "execution_count": 1413,
      "outputs": [
        {
          "output_type": "execute_result",
          "data": {
            "text/plain": [
              "Deal_id                   0\n",
              "Deal_date                 0\n",
              "First_deal_date           0\n",
              "Successful_deals_count    0\n",
              "Region                    0\n",
              "Tavern                    0\n",
              "Hashed_deal_detail_1      0\n",
              "Hashed_deal_detail_2      0\n",
              "Hashed_deal_detail_3      0\n",
              "Hashed_deal_detail_4      0\n",
              "Hashed_deal_detail_5      0\n",
              "Age                       0\n",
              "Gender                    0\n",
              "Default                   0\n",
              "dtype: int64"
            ]
          },
          "metadata": {},
          "execution_count": 1413
        }
      ]
    },
    {
      "cell_type": "markdown",
      "source": [
        "Сделаем даты типом данных date."
      ],
      "metadata": {
        "id": "B_S_YbBIzSrV"
      }
    },
    {
      "cell_type": "code",
      "source": [
        "date_columns = ['Deal_date', 'First_deal_date']\n",
        "\n",
        "for col in date_columns:\n",
        "  orders_data[col] = pd.to_datetime(orders_data[col], format='%Y-%m-%d') #'%Y-%m-%d'\n",
        "\n",
        "for col in date_columns:\n",
        "  orders_data[col] = orders_data[col].astype(np.int64) // (10**9*3600*24*30)\n",
        "\n",
        "orders_data.info()"
      ],
      "metadata": {
        "colab": {
          "base_uri": "https://localhost:8080/"
        },
        "id": "mQqiPsl_w_vA",
        "outputId": "b08c233d-5fc9-469e-9390-d04652b34599"
      },
      "execution_count": 1414,
      "outputs": [
        {
          "output_type": "stream",
          "name": "stdout",
          "text": [
            "<class 'pandas.core.frame.DataFrame'>\n",
            "RangeIndex: 3168 entries, 0 to 3167\n",
            "Data columns (total 14 columns):\n",
            " #   Column                  Non-Null Count  Dtype  \n",
            "---  ------                  --------------  -----  \n",
            " 0   Deal_id                 3168 non-null   int64  \n",
            " 1   Deal_date               3168 non-null   int64  \n",
            " 2   First_deal_date         3168 non-null   int64  \n",
            " 3   Successful_deals_count  3168 non-null   int64  \n",
            " 4   Region                  3168 non-null   object \n",
            " 5   Tavern                  3168 non-null   int64  \n",
            " 6   Hashed_deal_detail_1    3168 non-null   float64\n",
            " 7   Hashed_deal_detail_2    3168 non-null   int64  \n",
            " 8   Hashed_deal_detail_3    3168 non-null   int64  \n",
            " 9   Hashed_deal_detail_4    3168 non-null   float64\n",
            " 10  Hashed_deal_detail_5    3168 non-null   int64  \n",
            " 11  Age                     3168 non-null   float64\n",
            " 12  Gender                  3168 non-null   int64  \n",
            " 13  Default                 3168 non-null   int64  \n",
            "dtypes: float64(3), int64(10), object(1)\n",
            "memory usage: 346.6+ KB\n"
          ]
        }
      ]
    },
    {
      "cell_type": "code",
      "source": [
        "datafr = pd.read_csv('train.csv')\n",
        "has4 = (datafr['Hashed_deal_detail_4'] == 2.5).astype(int)\n",
        "secret_info_3 = datafr['Secret_dwarf_info_3'].notna().astype(int)\n",
        "has4"
      ],
      "metadata": {
        "colab": {
          "base_uri": "https://localhost:8080/"
        },
        "id": "slrIl8YbnjJm",
        "outputId": "39f70581-4b20-4769-cb51-b730d861de77"
      },
      "execution_count": 1415,
      "outputs": [
        {
          "output_type": "execute_result",
          "data": {
            "text/plain": [
              "0       1\n",
              "1       0\n",
              "2       1\n",
              "3       1\n",
              "4       1\n",
              "       ..\n",
              "3163    1\n",
              "3164    1\n",
              "3165    0\n",
              "3166    1\n",
              "3167    1\n",
              "Name: Hashed_deal_detail_4, Length: 3168, dtype: int64"
            ]
          },
          "metadata": {},
          "execution_count": 1415
        }
      ]
    },
    {
      "cell_type": "markdown",
      "source": [
        "# **Обучени модели и проверка качества.**"
      ],
      "metadata": {
        "id": "DVbharoVzayD"
      }
    },
    {
      "cell_type": "markdown",
      "source": [
        "Исключим из финального датасета номер заказа, регион таверны, а таргетную переменную запишем как y."
      ],
      "metadata": {
        "id": "u_wH91mF3K8C"
      }
    },
    {
      "cell_type": "code",
      "source": [
        "df = orders_data.drop(['Deal_id', 'Default', 'Region', 'Tavern', 'Hashed_deal_detail_1', 'Hashed_deal_detail_5', 'Hashed_deal_detail_4'], axis = 1)\n",
        "\n",
        "X = pd.concat([df, region_cols, secret_info_3, tavern_cols, has4], axis = 1)\n",
        "\n",
        "y = orders_data['Default']\n",
        "\n",
        "X.info()"
      ],
      "metadata": {
        "colab": {
          "base_uri": "https://localhost:8080/"
        },
        "id": "FDyznuMQ3uxy",
        "outputId": "e63817a9-6054-4ede-9f46-c1ab19384cb9"
      },
      "execution_count": 1587,
      "outputs": [
        {
          "output_type": "stream",
          "name": "stdout",
          "text": [
            "<class 'pandas.core.frame.DataFrame'>\n",
            "RangeIndex: 3168 entries, 0 to 3167\n",
            "Data columns (total 36 columns):\n",
            " #   Column                  Non-Null Count  Dtype  \n",
            "---  ------                  --------------  -----  \n",
            " 0   Deal_date               3168 non-null   int64  \n",
            " 1   First_deal_date         3168 non-null   int64  \n",
            " 2   Successful_deals_count  3168 non-null   int64  \n",
            " 3   Hashed_deal_detail_2    3168 non-null   int64  \n",
            " 4   Hashed_deal_detail_3    3168 non-null   int64  \n",
            " 5   Age                     3168 non-null   float64\n",
            " 6   Gender                  3168 non-null   int64  \n",
            " 7   Tavern_district_0       3168 non-null   int64  \n",
            " 8   Tavern_district_1       3168 non-null   int64  \n",
            " 9   Tavern_district_2       3168 non-null   int64  \n",
            " 10  Tavern_district_3       3168 non-null   int64  \n",
            " 11  Tavern_district_4       3168 non-null   int64  \n",
            " 12  Tavern_district_5       3168 non-null   int64  \n",
            " 13  Tavern_district_6       3168 non-null   int64  \n",
            " 14  Tavern_district_7       3168 non-null   int64  \n",
            " 15  Secret_dwarf_info_3     3168 non-null   int64  \n",
            " 16  2                       3168 non-null   int64  \n",
            " 17  7                       3168 non-null   int64  \n",
            " 18  8                       3168 non-null   int64  \n",
            " 19  10                      3168 non-null   int64  \n",
            " 20  13                      3168 non-null   int64  \n",
            " 21  15                      3168 non-null   int64  \n",
            " 22  17                      3168 non-null   int64  \n",
            " 23  18                      3168 non-null   int64  \n",
            " 24  22                      3168 non-null   int64  \n",
            " 25  23                      3168 non-null   int64  \n",
            " 26  26                      3168 non-null   int64  \n",
            " 27  27                      3168 non-null   int64  \n",
            " 28  39                      3168 non-null   int64  \n",
            " 29  43                      3168 non-null   int64  \n",
            " 30  44                      3168 non-null   int64  \n",
            " 31  45                      3168 non-null   int64  \n",
            " 32  47                      3168 non-null   int64  \n",
            " 33  49                      3168 non-null   int64  \n",
            " 34  58                      3168 non-null   int64  \n",
            " 35  Hashed_deal_detail_4    3168 non-null   int64  \n",
            "dtypes: float64(1), int64(35)\n",
            "memory usage: 891.1 KB\n"
          ]
        }
      ]
    },
    {
      "cell_type": "code",
      "source": [
        "from sklearn.model_selection import train_test_split\n",
        "\n",
        "X_train, X_test, y_train, y_test = train_test_split(X, y, test_size = 0.2, random_state = 42)\n",
        "X_train.head()"
      ],
      "metadata": {
        "colab": {
          "base_uri": "https://localhost:8080/",
          "height": 253
        },
        "id": "p4eIhMecxn5_",
        "outputId": "abfa3f5f-28c8-406a-ce83-e5376f63eb8c"
      },
      "execution_count": 1588,
      "outputs": [
        {
          "output_type": "execute_result",
          "data": {
            "text/plain": [
              "      Deal_date  First_deal_date  Successful_deals_count  \\\n",
              "807         564              558                       0   \n",
              "2495        558              556                       0   \n",
              "2529        566              562                       0   \n",
              "2241        562              558                       0   \n",
              "2981        562              556                       2   \n",
              "\n",
              "      Hashed_deal_detail_2  Hashed_deal_detail_3   Age  Gender  \\\n",
              "807                     -3                    11  53.0       1   \n",
              "2495                    -3                     6  23.0       1   \n",
              "2529                    -3                     8  31.0       1   \n",
              "2241                    -3                     9  30.0       0   \n",
              "2981                    -3                    11  34.0       0   \n",
              "\n",
              "      Tavern_district_0  Tavern_district_1  Tavern_district_2  ...  26  27  \\\n",
              "807                   1                  0                  0  ...   0   0   \n",
              "2495                  0                  0                  0  ...   0   0   \n",
              "2529                  0                  0                  0  ...   0   0   \n",
              "2241                  0                  0                  0  ...   0   0   \n",
              "2981                  0                  0                  0  ...   0   0   \n",
              "\n",
              "      39  43  44  45  47  49  58  Hashed_deal_detail_4  \n",
              "807    0   0   0   0   0   0   0                     1  \n",
              "2495   0   0   0   0   0   0   0                     1  \n",
              "2529   0   0   0   0   0   0   0                     1  \n",
              "2241   0   0   0   0   0   0   0                     1  \n",
              "2981   0   0   0   0   0   0   0                     1  \n",
              "\n",
              "[5 rows x 36 columns]"
            ],
            "text/html": [
              "\n",
              "  <div id=\"df-9898dedb-9625-4168-b3bb-8b4d0203d913\" class=\"colab-df-container\">\n",
              "    <div>\n",
              "<style scoped>\n",
              "    .dataframe tbody tr th:only-of-type {\n",
              "        vertical-align: middle;\n",
              "    }\n",
              "\n",
              "    .dataframe tbody tr th {\n",
              "        vertical-align: top;\n",
              "    }\n",
              "\n",
              "    .dataframe thead th {\n",
              "        text-align: right;\n",
              "    }\n",
              "</style>\n",
              "<table border=\"1\" class=\"dataframe\">\n",
              "  <thead>\n",
              "    <tr style=\"text-align: right;\">\n",
              "      <th></th>\n",
              "      <th>Deal_date</th>\n",
              "      <th>First_deal_date</th>\n",
              "      <th>Successful_deals_count</th>\n",
              "      <th>Hashed_deal_detail_2</th>\n",
              "      <th>Hashed_deal_detail_3</th>\n",
              "      <th>Age</th>\n",
              "      <th>Gender</th>\n",
              "      <th>Tavern_district_0</th>\n",
              "      <th>Tavern_district_1</th>\n",
              "      <th>Tavern_district_2</th>\n",
              "      <th>...</th>\n",
              "      <th>26</th>\n",
              "      <th>27</th>\n",
              "      <th>39</th>\n",
              "      <th>43</th>\n",
              "      <th>44</th>\n",
              "      <th>45</th>\n",
              "      <th>47</th>\n",
              "      <th>49</th>\n",
              "      <th>58</th>\n",
              "      <th>Hashed_deal_detail_4</th>\n",
              "    </tr>\n",
              "  </thead>\n",
              "  <tbody>\n",
              "    <tr>\n",
              "      <th>807</th>\n",
              "      <td>564</td>\n",
              "      <td>558</td>\n",
              "      <td>0</td>\n",
              "      <td>-3</td>\n",
              "      <td>11</td>\n",
              "      <td>53.0</td>\n",
              "      <td>1</td>\n",
              "      <td>1</td>\n",
              "      <td>0</td>\n",
              "      <td>0</td>\n",
              "      <td>...</td>\n",
              "      <td>0</td>\n",
              "      <td>0</td>\n",
              "      <td>0</td>\n",
              "      <td>0</td>\n",
              "      <td>0</td>\n",
              "      <td>0</td>\n",
              "      <td>0</td>\n",
              "      <td>0</td>\n",
              "      <td>0</td>\n",
              "      <td>1</td>\n",
              "    </tr>\n",
              "    <tr>\n",
              "      <th>2495</th>\n",
              "      <td>558</td>\n",
              "      <td>556</td>\n",
              "      <td>0</td>\n",
              "      <td>-3</td>\n",
              "      <td>6</td>\n",
              "      <td>23.0</td>\n",
              "      <td>1</td>\n",
              "      <td>0</td>\n",
              "      <td>0</td>\n",
              "      <td>0</td>\n",
              "      <td>...</td>\n",
              "      <td>0</td>\n",
              "      <td>0</td>\n",
              "      <td>0</td>\n",
              "      <td>0</td>\n",
              "      <td>0</td>\n",
              "      <td>0</td>\n",
              "      <td>0</td>\n",
              "      <td>0</td>\n",
              "      <td>0</td>\n",
              "      <td>1</td>\n",
              "    </tr>\n",
              "    <tr>\n",
              "      <th>2529</th>\n",
              "      <td>566</td>\n",
              "      <td>562</td>\n",
              "      <td>0</td>\n",
              "      <td>-3</td>\n",
              "      <td>8</td>\n",
              "      <td>31.0</td>\n",
              "      <td>1</td>\n",
              "      <td>0</td>\n",
              "      <td>0</td>\n",
              "      <td>0</td>\n",
              "      <td>...</td>\n",
              "      <td>0</td>\n",
              "      <td>0</td>\n",
              "      <td>0</td>\n",
              "      <td>0</td>\n",
              "      <td>0</td>\n",
              "      <td>0</td>\n",
              "      <td>0</td>\n",
              "      <td>0</td>\n",
              "      <td>0</td>\n",
              "      <td>1</td>\n",
              "    </tr>\n",
              "    <tr>\n",
              "      <th>2241</th>\n",
              "      <td>562</td>\n",
              "      <td>558</td>\n",
              "      <td>0</td>\n",
              "      <td>-3</td>\n",
              "      <td>9</td>\n",
              "      <td>30.0</td>\n",
              "      <td>0</td>\n",
              "      <td>0</td>\n",
              "      <td>0</td>\n",
              "      <td>0</td>\n",
              "      <td>...</td>\n",
              "      <td>0</td>\n",
              "      <td>0</td>\n",
              "      <td>0</td>\n",
              "      <td>0</td>\n",
              "      <td>0</td>\n",
              "      <td>0</td>\n",
              "      <td>0</td>\n",
              "      <td>0</td>\n",
              "      <td>0</td>\n",
              "      <td>1</td>\n",
              "    </tr>\n",
              "    <tr>\n",
              "      <th>2981</th>\n",
              "      <td>562</td>\n",
              "      <td>556</td>\n",
              "      <td>2</td>\n",
              "      <td>-3</td>\n",
              "      <td>11</td>\n",
              "      <td>34.0</td>\n",
              "      <td>0</td>\n",
              "      <td>0</td>\n",
              "      <td>0</td>\n",
              "      <td>0</td>\n",
              "      <td>...</td>\n",
              "      <td>0</td>\n",
              "      <td>0</td>\n",
              "      <td>0</td>\n",
              "      <td>0</td>\n",
              "      <td>0</td>\n",
              "      <td>0</td>\n",
              "      <td>0</td>\n",
              "      <td>0</td>\n",
              "      <td>0</td>\n",
              "      <td>1</td>\n",
              "    </tr>\n",
              "  </tbody>\n",
              "</table>\n",
              "<p>5 rows × 36 columns</p>\n",
              "</div>\n",
              "    <div class=\"colab-df-buttons\">\n",
              "\n",
              "  <div class=\"colab-df-container\">\n",
              "    <button class=\"colab-df-convert\" onclick=\"convertToInteractive('df-9898dedb-9625-4168-b3bb-8b4d0203d913')\"\n",
              "            title=\"Convert this dataframe to an interactive table.\"\n",
              "            style=\"display:none;\">\n",
              "\n",
              "  <svg xmlns=\"http://www.w3.org/2000/svg\" height=\"24px\" viewBox=\"0 -960 960 960\">\n",
              "    <path d=\"M120-120v-720h720v720H120Zm60-500h600v-160H180v160Zm220 220h160v-160H400v160Zm0 220h160v-160H400v160ZM180-400h160v-160H180v160Zm440 0h160v-160H620v160ZM180-180h160v-160H180v160Zm440 0h160v-160H620v160Z\"/>\n",
              "  </svg>\n",
              "    </button>\n",
              "\n",
              "  <style>\n",
              "    .colab-df-container {\n",
              "      display:flex;\n",
              "      gap: 12px;\n",
              "    }\n",
              "\n",
              "    .colab-df-convert {\n",
              "      background-color: #E8F0FE;\n",
              "      border: none;\n",
              "      border-radius: 50%;\n",
              "      cursor: pointer;\n",
              "      display: none;\n",
              "      fill: #1967D2;\n",
              "      height: 32px;\n",
              "      padding: 0 0 0 0;\n",
              "      width: 32px;\n",
              "    }\n",
              "\n",
              "    .colab-df-convert:hover {\n",
              "      background-color: #E2EBFA;\n",
              "      box-shadow: 0px 1px 2px rgba(60, 64, 67, 0.3), 0px 1px 3px 1px rgba(60, 64, 67, 0.15);\n",
              "      fill: #174EA6;\n",
              "    }\n",
              "\n",
              "    .colab-df-buttons div {\n",
              "      margin-bottom: 4px;\n",
              "    }\n",
              "\n",
              "    [theme=dark] .colab-df-convert {\n",
              "      background-color: #3B4455;\n",
              "      fill: #D2E3FC;\n",
              "    }\n",
              "\n",
              "    [theme=dark] .colab-df-convert:hover {\n",
              "      background-color: #434B5C;\n",
              "      box-shadow: 0px 1px 3px 1px rgba(0, 0, 0, 0.15);\n",
              "      filter: drop-shadow(0px 1px 2px rgba(0, 0, 0, 0.3));\n",
              "      fill: #FFFFFF;\n",
              "    }\n",
              "  </style>\n",
              "\n",
              "    <script>\n",
              "      const buttonEl =\n",
              "        document.querySelector('#df-9898dedb-9625-4168-b3bb-8b4d0203d913 button.colab-df-convert');\n",
              "      buttonEl.style.display =\n",
              "        google.colab.kernel.accessAllowed ? 'block' : 'none';\n",
              "\n",
              "      async function convertToInteractive(key) {\n",
              "        const element = document.querySelector('#df-9898dedb-9625-4168-b3bb-8b4d0203d913');\n",
              "        const dataTable =\n",
              "          await google.colab.kernel.invokeFunction('convertToInteractive',\n",
              "                                                    [key], {});\n",
              "        if (!dataTable) return;\n",
              "\n",
              "        const docLinkHtml = 'Like what you see? Visit the ' +\n",
              "          '<a target=\"_blank\" href=https://colab.research.google.com/notebooks/data_table.ipynb>data table notebook</a>'\n",
              "          + ' to learn more about interactive tables.';\n",
              "        element.innerHTML = '';\n",
              "        dataTable['output_type'] = 'display_data';\n",
              "        await google.colab.output.renderOutput(dataTable, element);\n",
              "        const docLink = document.createElement('div');\n",
              "        docLink.innerHTML = docLinkHtml;\n",
              "        element.appendChild(docLink);\n",
              "      }\n",
              "    </script>\n",
              "  </div>\n",
              "\n",
              "\n",
              "<div id=\"df-cc53b4fc-2cd1-4949-a089-8f957f6f613b\">\n",
              "  <button class=\"colab-df-quickchart\" onclick=\"quickchart('df-cc53b4fc-2cd1-4949-a089-8f957f6f613b')\"\n",
              "            title=\"Suggest charts\"\n",
              "            style=\"display:none;\">\n",
              "\n",
              "<svg xmlns=\"http://www.w3.org/2000/svg\" height=\"24px\"viewBox=\"0 0 24 24\"\n",
              "     width=\"24px\">\n",
              "    <g>\n",
              "        <path d=\"M19 3H5c-1.1 0-2 .9-2 2v14c0 1.1.9 2 2 2h14c1.1 0 2-.9 2-2V5c0-1.1-.9-2-2-2zM9 17H7v-7h2v7zm4 0h-2V7h2v10zm4 0h-2v-4h2v4z\"/>\n",
              "    </g>\n",
              "</svg>\n",
              "  </button>\n",
              "\n",
              "<style>\n",
              "  .colab-df-quickchart {\n",
              "      --bg-color: #E8F0FE;\n",
              "      --fill-color: #1967D2;\n",
              "      --hover-bg-color: #E2EBFA;\n",
              "      --hover-fill-color: #174EA6;\n",
              "      --disabled-fill-color: #AAA;\n",
              "      --disabled-bg-color: #DDD;\n",
              "  }\n",
              "\n",
              "  [theme=dark] .colab-df-quickchart {\n",
              "      --bg-color: #3B4455;\n",
              "      --fill-color: #D2E3FC;\n",
              "      --hover-bg-color: #434B5C;\n",
              "      --hover-fill-color: #FFFFFF;\n",
              "      --disabled-bg-color: #3B4455;\n",
              "      --disabled-fill-color: #666;\n",
              "  }\n",
              "\n",
              "  .colab-df-quickchart {\n",
              "    background-color: var(--bg-color);\n",
              "    border: none;\n",
              "    border-radius: 50%;\n",
              "    cursor: pointer;\n",
              "    display: none;\n",
              "    fill: var(--fill-color);\n",
              "    height: 32px;\n",
              "    padding: 0;\n",
              "    width: 32px;\n",
              "  }\n",
              "\n",
              "  .colab-df-quickchart:hover {\n",
              "    background-color: var(--hover-bg-color);\n",
              "    box-shadow: 0 1px 2px rgba(60, 64, 67, 0.3), 0 1px 3px 1px rgba(60, 64, 67, 0.15);\n",
              "    fill: var(--button-hover-fill-color);\n",
              "  }\n",
              "\n",
              "  .colab-df-quickchart-complete:disabled,\n",
              "  .colab-df-quickchart-complete:disabled:hover {\n",
              "    background-color: var(--disabled-bg-color);\n",
              "    fill: var(--disabled-fill-color);\n",
              "    box-shadow: none;\n",
              "  }\n",
              "\n",
              "  .colab-df-spinner {\n",
              "    border: 2px solid var(--fill-color);\n",
              "    border-color: transparent;\n",
              "    border-bottom-color: var(--fill-color);\n",
              "    animation:\n",
              "      spin 1s steps(1) infinite;\n",
              "  }\n",
              "\n",
              "  @keyframes spin {\n",
              "    0% {\n",
              "      border-color: transparent;\n",
              "      border-bottom-color: var(--fill-color);\n",
              "      border-left-color: var(--fill-color);\n",
              "    }\n",
              "    20% {\n",
              "      border-color: transparent;\n",
              "      border-left-color: var(--fill-color);\n",
              "      border-top-color: var(--fill-color);\n",
              "    }\n",
              "    30% {\n",
              "      border-color: transparent;\n",
              "      border-left-color: var(--fill-color);\n",
              "      border-top-color: var(--fill-color);\n",
              "      border-right-color: var(--fill-color);\n",
              "    }\n",
              "    40% {\n",
              "      border-color: transparent;\n",
              "      border-right-color: var(--fill-color);\n",
              "      border-top-color: var(--fill-color);\n",
              "    }\n",
              "    60% {\n",
              "      border-color: transparent;\n",
              "      border-right-color: var(--fill-color);\n",
              "    }\n",
              "    80% {\n",
              "      border-color: transparent;\n",
              "      border-right-color: var(--fill-color);\n",
              "      border-bottom-color: var(--fill-color);\n",
              "    }\n",
              "    90% {\n",
              "      border-color: transparent;\n",
              "      border-bottom-color: var(--fill-color);\n",
              "    }\n",
              "  }\n",
              "</style>\n",
              "\n",
              "  <script>\n",
              "    async function quickchart(key) {\n",
              "      const quickchartButtonEl =\n",
              "        document.querySelector('#' + key + ' button');\n",
              "      quickchartButtonEl.disabled = true;  // To prevent multiple clicks.\n",
              "      quickchartButtonEl.classList.add('colab-df-spinner');\n",
              "      try {\n",
              "        const charts = await google.colab.kernel.invokeFunction(\n",
              "            'suggestCharts', [key], {});\n",
              "      } catch (error) {\n",
              "        console.error('Error during call to suggestCharts:', error);\n",
              "      }\n",
              "      quickchartButtonEl.classList.remove('colab-df-spinner');\n",
              "      quickchartButtonEl.classList.add('colab-df-quickchart-complete');\n",
              "    }\n",
              "    (() => {\n",
              "      let quickchartButtonEl =\n",
              "        document.querySelector('#df-cc53b4fc-2cd1-4949-a089-8f957f6f613b button');\n",
              "      quickchartButtonEl.style.display =\n",
              "        google.colab.kernel.accessAllowed ? 'block' : 'none';\n",
              "    })();\n",
              "  </script>\n",
              "</div>\n",
              "    </div>\n",
              "  </div>\n"
            ],
            "application/vnd.google.colaboratory.intrinsic+json": {
              "type": "dataframe",
              "variable_name": "X_train"
            }
          },
          "metadata": {},
          "execution_count": 1588
        }
      ]
    },
    {
      "cell_type": "code",
      "source": [
        "from sklearn.neighbors import KNeighborsClassifier\n",
        "\n",
        "knn = KNeighborsClassifier(n_neighbors=53, weights = 'uniform')\n",
        "knn.fit(X_train, y_train)"
      ],
      "metadata": {
        "id": "MY4c9st-4phT",
        "colab": {
          "base_uri": "https://localhost:8080/",
          "height": 74
        },
        "outputId": "4194ec11-ddc8-4bfb-e2eb-a0e80c3cabc1"
      },
      "execution_count": 1589,
      "outputs": [
        {
          "output_type": "execute_result",
          "data": {
            "text/plain": [
              "KNeighborsClassifier(n_neighbors=53)"
            ],
            "text/html": [
              "<style>#sk-container-id-89 {color: black;background-color: white;}#sk-container-id-89 pre{padding: 0;}#sk-container-id-89 div.sk-toggleable {background-color: white;}#sk-container-id-89 label.sk-toggleable__label {cursor: pointer;display: block;width: 100%;margin-bottom: 0;padding: 0.3em;box-sizing: border-box;text-align: center;}#sk-container-id-89 label.sk-toggleable__label-arrow:before {content: \"▸\";float: left;margin-right: 0.25em;color: #696969;}#sk-container-id-89 label.sk-toggleable__label-arrow:hover:before {color: black;}#sk-container-id-89 div.sk-estimator:hover label.sk-toggleable__label-arrow:before {color: black;}#sk-container-id-89 div.sk-toggleable__content {max-height: 0;max-width: 0;overflow: hidden;text-align: left;background-color: #f0f8ff;}#sk-container-id-89 div.sk-toggleable__content pre {margin: 0.2em;color: black;border-radius: 0.25em;background-color: #f0f8ff;}#sk-container-id-89 input.sk-toggleable__control:checked~div.sk-toggleable__content {max-height: 200px;max-width: 100%;overflow: auto;}#sk-container-id-89 input.sk-toggleable__control:checked~label.sk-toggleable__label-arrow:before {content: \"▾\";}#sk-container-id-89 div.sk-estimator input.sk-toggleable__control:checked~label.sk-toggleable__label {background-color: #d4ebff;}#sk-container-id-89 div.sk-label input.sk-toggleable__control:checked~label.sk-toggleable__label {background-color: #d4ebff;}#sk-container-id-89 input.sk-hidden--visually {border: 0;clip: rect(1px 1px 1px 1px);clip: rect(1px, 1px, 1px, 1px);height: 1px;margin: -1px;overflow: hidden;padding: 0;position: absolute;width: 1px;}#sk-container-id-89 div.sk-estimator {font-family: monospace;background-color: #f0f8ff;border: 1px dotted black;border-radius: 0.25em;box-sizing: border-box;margin-bottom: 0.5em;}#sk-container-id-89 div.sk-estimator:hover {background-color: #d4ebff;}#sk-container-id-89 div.sk-parallel-item::after {content: \"\";width: 100%;border-bottom: 1px solid gray;flex-grow: 1;}#sk-container-id-89 div.sk-label:hover label.sk-toggleable__label {background-color: #d4ebff;}#sk-container-id-89 div.sk-serial::before {content: \"\";position: absolute;border-left: 1px solid gray;box-sizing: border-box;top: 0;bottom: 0;left: 50%;z-index: 0;}#sk-container-id-89 div.sk-serial {display: flex;flex-direction: column;align-items: center;background-color: white;padding-right: 0.2em;padding-left: 0.2em;position: relative;}#sk-container-id-89 div.sk-item {position: relative;z-index: 1;}#sk-container-id-89 div.sk-parallel {display: flex;align-items: stretch;justify-content: center;background-color: white;position: relative;}#sk-container-id-89 div.sk-item::before, #sk-container-id-89 div.sk-parallel-item::before {content: \"\";position: absolute;border-left: 1px solid gray;box-sizing: border-box;top: 0;bottom: 0;left: 50%;z-index: -1;}#sk-container-id-89 div.sk-parallel-item {display: flex;flex-direction: column;z-index: 1;position: relative;background-color: white;}#sk-container-id-89 div.sk-parallel-item:first-child::after {align-self: flex-end;width: 50%;}#sk-container-id-89 div.sk-parallel-item:last-child::after {align-self: flex-start;width: 50%;}#sk-container-id-89 div.sk-parallel-item:only-child::after {width: 0;}#sk-container-id-89 div.sk-dashed-wrapped {border: 1px dashed gray;margin: 0 0.4em 0.5em 0.4em;box-sizing: border-box;padding-bottom: 0.4em;background-color: white;}#sk-container-id-89 div.sk-label label {font-family: monospace;font-weight: bold;display: inline-block;line-height: 1.2em;}#sk-container-id-89 div.sk-label-container {text-align: center;}#sk-container-id-89 div.sk-container {/* jupyter's `normalize.less` sets `[hidden] { display: none; }` but bootstrap.min.css set `[hidden] { display: none !important; }` so we also need the `!important` here to be able to override the default hidden behavior on the sphinx rendered scikit-learn.org. See: https://github.com/scikit-learn/scikit-learn/issues/21755 */display: inline-block !important;position: relative;}#sk-container-id-89 div.sk-text-repr-fallback {display: none;}</style><div id=\"sk-container-id-89\" class=\"sk-top-container\"><div class=\"sk-text-repr-fallback\"><pre>KNeighborsClassifier(n_neighbors=53)</pre><b>In a Jupyter environment, please rerun this cell to show the HTML representation or trust the notebook. <br />On GitHub, the HTML representation is unable to render, please try loading this page with nbviewer.org.</b></div><div class=\"sk-container\" hidden><div class=\"sk-item\"><div class=\"sk-estimator sk-toggleable\"><input class=\"sk-toggleable__control sk-hidden--visually\" id=\"sk-estimator-id-89\" type=\"checkbox\" checked><label for=\"sk-estimator-id-89\" class=\"sk-toggleable__label sk-toggleable__label-arrow\">KNeighborsClassifier</label><div class=\"sk-toggleable__content\"><pre>KNeighborsClassifier(n_neighbors=53)</pre></div></div></div></div></div>"
            ]
          },
          "metadata": {},
          "execution_count": 1589
        }
      ]
    },
    {
      "cell_type": "code",
      "source": [
        "y_train_pred = knn.predict(X_train)\n",
        "y_test_pred = knn.predict(X_test)\n",
        "\n",
        "from sklearn.metrics import accuracy_score\n",
        "\n",
        "print('train_accuracy', accuracy_score(y_train, y_train_pred, normalize=True))\n",
        "print('train_accuracy', accuracy_score(y_test, y_test_pred, normalize=True))\n",
        "\n",
        "pred_proba_knn = knn.predict_proba(X_test)"
      ],
      "metadata": {
        "colab": {
          "base_uri": "https://localhost:8080/"
        },
        "id": "wo8yYuIo9tYI",
        "outputId": "ba8a9f62-756f-42ac-f5cf-d817ac9eebe9"
      },
      "execution_count": 1590,
      "outputs": [
        {
          "output_type": "stream",
          "name": "stdout",
          "text": [
            "train_accuracy 0.8902920284135754\n",
            "train_accuracy 0.8848580441640379\n"
          ]
        }
      ]
    },
    {
      "cell_type": "code",
      "source": [
        "from sklearn.metrics import auc, roc_curve\n",
        "\n",
        "fprs, tprs, thr = roc_curve(y_test, pred_proba_knn[:,1])\n",
        "\n",
        "plt.plot(fprs, tprs, marker = 'o')\n",
        "plt.ylim([0,1.1])\n",
        "plt.xlim([0,1.1])\n",
        "plt.xlabel('FPR')\n",
        "plt.ylabel('TPR')\n",
        "plt.title('ROC-curve')\n",
        "\n",
        "print(auc(fprs, tprs))"
      ],
      "metadata": {
        "colab": {
          "base_uri": "https://localhost:8080/",
          "height": 489
        },
        "id": "LCIc5xUs_e4t",
        "outputId": "7dcb5716-81fa-4a04-ba82-53c929bc8699"
      },
      "execution_count": 1591,
      "outputs": [
        {
          "output_type": "stream",
          "name": "stdout",
          "text": [
            "0.6811222621053402\n"
          ]
        },
        {
          "output_type": "display_data",
          "data": {
            "text/plain": [
              "<Figure size 640x480 with 1 Axes>"
            ],
            "image/png": "[encoded data removed]"
          },
          "metadata": {}
        }
      ]
    },
    {
      "cell_type": "code",
      "source": [
        "from sklearn.tree import DecisionTreeClassifier\n",
        "\n",
        "tree = DecisionTreeClassifier(max_depth=9, min_samples_split = 9, max_leaf_nodes=77, random_state = 42)\n",
        "tree.fit(X_train, y_train)\n",
        "\n",
        "y2_pred_train = tree.predict(X_train)\n",
        "y2_pred_test = tree.predict(X_test)\n",
        "\n",
        "pred_proba_tree = tree.predict_proba(X_test)\n",
        "pred_proba_tree"
      ],
      "metadata": {
        "colab": {
          "base_uri": "https://localhost:8080/"
        },
        "id": "NRGM_QujdKVs",
        "outputId": "4ad47f3f-1055-4508-f095-29dc3b2507b2"
      },
      "execution_count": 1592,
      "outputs": [
        {
          "output_type": "execute_result",
          "data": {
            "text/plain": [
              "array([[0.5       , 0.5       ],\n",
              "       [0.9       , 0.1       ],\n",
              "       [0.96898263, 0.03101737],\n",
              "       ...,\n",
              "       [0.96898263, 0.03101737],\n",
              "       [0.9       , 0.1       ],\n",
              "       [1.        , 0.        ]])"
            ]
          },
          "metadata": {},
          "execution_count": 1592
        }
      ]
    },
    {
      "cell_type": "code",
      "source": [
        "fprs2, tprs2, thr2 = roc_curve(y_test, pred_proba_tree[:,1])\n",
        "\n",
        "plt.plot(fprs2, tprs2, marker = 'o')\n",
        "plt.ylim([0,1.1])\n",
        "plt.xlim([0,1.1])\n",
        "plt.xlabel('FPR')\n",
        "plt.ylabel('TPR')\n",
        "plt.title('ROC-curve')\n",
        "\n",
        "print(auc(fprs2, tprs2))"
      ],
      "metadata": {
        "colab": {
          "base_uri": "https://localhost:8080/",
          "height": 489
        },
        "id": "RuehMaVXeSAO",
        "outputId": "13d3bac4-2cbe-4c54-fb12-188b22facd77"
      },
      "execution_count": 1593,
      "outputs": [
        {
          "output_type": "stream",
          "name": "stdout",
          "text": [
            "0.6933802163455668\n"
          ]
        },
        {
          "output_type": "display_data",
          "data": {
            "text/plain": [
              "<Figure size 640x480 with 1 Axes>"
            ],
            "image/png": "[encoded data removed]"
          },
          "metadata": {}
        }
      ]
    },
    {
      "cell_type": "code",
      "source": [
        "from sklearn.linear_model import LogisticRegression\n",
        "\n",
        "log = LogisticRegression(random_state = 42)\n",
        "log.fit(X_train, y_train)\n",
        "\n",
        "y3_pred_train = log.predict(X_train)\n",
        "y3_pred_test = log.predict(X_test)\n",
        "\n",
        "pred_proba_log = log.predict_proba(X_test)\n",
        "pred_proba_log"
      ],
      "metadata": {
        "colab": {
          "base_uri": "https://localhost:8080/"
        },
        "id": "AYqRkTjghFn8",
        "outputId": "d7018262-511b-4315-ee00-7ca3974cfcd2"
      },
      "execution_count": 1594,
      "outputs": [
        {
          "output_type": "stream",
          "name": "stderr",
          "text": [
            "/usr/local/lib/python3.10/dist-packages/sklearn/linear_model/_logistic.py:458: ConvergenceWarning: lbfgs failed to converge (status=1):\n",
            "STOP: TOTAL NO. of ITERATIONS REACHED LIMIT.\n",
            "\n",
            "Increase the number of iterations (max_iter) or scale the data as shown in:\n",
            "    https://scikit-learn.org/stable/modules/preprocessing.html\n",
            "Please also refer to the documentation for alternative solver options:\n",
            "    https://scikit-learn.org/stable/modules/linear_model.html#logistic-regression\n",
            "  n_iter_i = _check_optimize_result(\n"
          ]
        },
        {
          "output_type": "execute_result",
          "data": {
            "text/plain": [
              "array([[0.95126653, 0.04873347],\n",
              "       [0.88761965, 0.11238035],\n",
              "       [0.97579851, 0.02420149],\n",
              "       ...,\n",
              "       [0.98140248, 0.01859752],\n",
              "       [0.59617056, 0.40382944],\n",
              "       [0.73323932, 0.26676068]])"
            ]
          },
          "metadata": {},
          "execution_count": 1594
        }
      ]
    },
    {
      "cell_type": "code",
      "source": [
        "fprs3, tprs3, thr3 = roc_curve(y_test, pred_proba_log[:,1])\n",
        "\n",
        "plt.plot(fprs3, tprs3, marker = 'o')\n",
        "plt.ylim([0,1.1])\n",
        "plt.xlim([0,1.1])\n",
        "plt.xlabel('FPR')\n",
        "plt.ylabel('TPR')\n",
        "plt.title('ROC-curve')\n",
        "\n",
        "print(auc(fprs3, tprs3))"
      ],
      "metadata": {
        "colab": {
          "base_uri": "https://localhost:8080/",
          "height": 489
        },
        "id": "alu88OgWi7Bd",
        "outputId": "81a78268-ec50-49ee-ee8b-edfecb58e178"
      },
      "execution_count": 1595,
      "outputs": [
        {
          "output_type": "stream",
          "name": "stdout",
          "text": [
            "0.7038800576270359\n"
          ]
        },
        {
          "output_type": "display_data",
          "data": {
            "text/plain": [
              "<Figure size 640x480 with 1 Axes>"
            ],
            "image/png": "[encoded data removed]"
          },
          "metadata": {}
        }
      ]
    },
    {
      "cell_type": "code",
      "source": [
        "from sklearn.tree import ExtraTreeClassifier\n",
        "\n",
        "ex_tree = ExtraTreeClassifier(max_depth=9, min_samples_split = 9, max_leaf_nodes=77, random_state = 42)\n",
        "ex_tree.fit(X_train, y_train)\n",
        "\n",
        "y4_pred_train = ex_tree.predict(X_train)\n",
        "y4_pred_test = ex_tree.predict(X_test)\n",
        "\n",
        "pred_proba_ex_tree = ex_tree.predict_proba(X_test)\n",
        "pred_proba_ex_tree"
      ],
      "metadata": {
        "colab": {
          "base_uri": "https://localhost:8080/"
        },
        "id": "l012bgmMo47E",
        "outputId": "23bb7469-21de-4d58-cd8e-bd6f0ab4f39c"
      },
      "execution_count": 1596,
      "outputs": [
        {
          "output_type": "execute_result",
          "data": {
            "text/plain": [
              "array([[0.95      , 0.05      ],\n",
              "       [0.68627451, 0.31372549],\n",
              "       [0.95      , 0.05      ],\n",
              "       ...,\n",
              "       [0.93886463, 0.06113537],\n",
              "       [0.44      , 0.56      ],\n",
              "       [0.66666667, 0.33333333]])"
            ]
          },
          "metadata": {},
          "execution_count": 1596
        }
      ]
    },
    {
      "cell_type": "code",
      "source": [
        "fprs4, tprs4, thr4 = roc_curve(y_test, pred_proba_ex_tree[:,1])\n",
        "\n",
        "plt.plot(fprs4, tprs4, marker = 'o')\n",
        "plt.ylim([0,1.1])\n",
        "plt.xlim([0,1.1])\n",
        "plt.xlabel('FPR')\n",
        "plt.ylabel('TPR')\n",
        "plt.title('ROC-curve')\n",
        "\n",
        "print(auc(fprs4, tprs4))"
      ],
      "metadata": {
        "colab": {
          "base_uri": "https://localhost:8080/",
          "height": 489
        },
        "id": "Vn4s1AixpVM_",
        "outputId": "8333c9aa-2984-4f6c-b49e-009277775365"
      },
      "execution_count": 1597,
      "outputs": [
        {
          "output_type": "stream",
          "name": "stdout",
          "text": [
            "0.6699997558176446\n"
          ]
        },
        {
          "output_type": "display_data",
          "data": {
            "text/plain": [
              "<Figure size 640x480 with 1 Axes>"
            ],
            "image/png": "[encoded data removed]"
          },
          "metadata": {}
        }
      ]
    },
    {
      "cell_type": "code",
      "source": [
        "from sklearn.ensemble import GradientBoostingClassifier\n",
        "\n",
        "grad_boost = GradientBoostingClassifier(n_estimators = 50, min_samples_leaf = 9, random_state = 42)\n",
        "grad_boost.fit(X_train, y_train)\n",
        "\n",
        "y5_pred_train = grad_boost.predict(X_train)\n",
        "y5_pred_test = grad_boost.predict(X_test)\n",
        "\n",
        "pred_proba_grad_boost = grad_boost.predict_proba(X_test)\n",
        "pred_proba_grad_boost"
      ],
      "metadata": {
        "colab": {
          "base_uri": "https://localhost:8080/"
        },
        "id": "ypAGXJLaqVBN",
        "outputId": "e8ebdf76-91fc-42d2-a483-47b2bcd18658"
      },
      "execution_count": 1598,
      "outputs": [
        {
          "output_type": "execute_result",
          "data": {
            "text/plain": [
              "array([[0.90589007, 0.09410993],\n",
              "       [0.85275632, 0.14724368],\n",
              "       [0.96979506, 0.03020494],\n",
              "       ...,\n",
              "       [0.94664286, 0.05335714],\n",
              "       [0.79705937, 0.20294063],\n",
              "       [0.53266156, 0.46733844]])"
            ]
          },
          "metadata": {},
          "execution_count": 1598
        }
      ]
    },
    {
      "cell_type": "code",
      "source": [
        "fprs5, tprs5, thr5 = roc_curve(y_test, pred_proba_grad_boost[:,1])\n",
        "\n",
        "plt.plot(fprs5, tprs5, marker = 'o')\n",
        "plt.ylim([0,1.1])\n",
        "plt.xlim([0,1.1])\n",
        "plt.xlabel('FPR')\n",
        "plt.ylabel('TPR')\n",
        "plt.title('ROC-curve')\n",
        "\n",
        "print(auc(fprs5, tprs5))"
      ],
      "metadata": {
        "colab": {
          "base_uri": "https://localhost:8080/",
          "height": 489
        },
        "id": "Nw6RF6Nerwll",
        "outputId": "a4c48bf8-efbc-47d5-d79a-c06c207dce7f"
      },
      "execution_count": 1599,
      "outputs": [
        {
          "output_type": "stream",
          "name": "stdout",
          "text": [
            "0.7240495201816716\n"
          ]
        },
        {
          "output_type": "display_data",
          "data": {
            "text/plain": [
              "<Figure size 640x480 with 1 Axes>"
            ],
            "image/png": "[encoded data removed]"
          },
          "metadata": {}
        }
      ]
    },
    {
      "cell_type": "code",
      "source": [],
      "metadata": {
        "id": "uFZNyCMwPk6E"
      },
      "execution_count": 1599,
      "outputs": []
    }
  ]
}